{
 "cells": [
  {
   "cell_type": "markdown",
   "metadata": {},
   "source": [
    "## FINAL PROJECT."
   ]
  },
  {
   "cell_type": "markdown",
   "metadata": {},
   "source": [
    "### Client: AtliQ Hardware."
   ]
  },
  {
   "cell_type": "markdown",
   "metadata": {},
   "source": [
    "### AtliQ Hardware is one of the leading computer hardware producers in India, and has even expanded into other countries as well. They sell different types of hardware to big players such as Amazon, Best Buy, and Walmart.<br>\n",
    "### This year, they're asking PWC to conduct a big audit of their sales and help them automate their existing data."
   ]
  },
  {
   "cell_type": "markdown",
   "metadata": {},
   "source": [
    "***"
   ]
  },
  {
   "cell_type": "markdown",
   "metadata": {},
   "source": [
    "### FINNANCIAL ANALYSIS"
   ]
  },
  {
   "cell_type": "markdown",
   "metadata": {},
   "source": [
    "#### DECOMPOSITION AND RESEARCH TASKS:"
   ]
  },
  {
   "cell_type": "markdown",
   "metadata": {},
   "source": [
    "### 1. Definition of Objectives and Key Questions"
   ]
  },
  {
   "cell_type": "markdown",
   "metadata": {},
   "source": [
    "#### Objective: Understand how revenue, profits, and margins have changed over time. Analyze shifts in the market and identify the most profitable categories.<br>\n",
    "#### Key Questions:<br>\n",
    "- How have revenue and profits trended over the years?<br>\n",
    "- What are the profit margins, and how have they evolved?<br>\n",
    "- Which markets, platforms, or channels have driven the most revenue and profit?<br>\n",
    "- What categories of products are the most profitable?<br>\n",
    "- How have different regions/subzones contributed to revenue and profit?<br>\n",
    "- Are there any noticeable shifts in market trends or customer preferences?"
   ]
  },
  {
   "cell_type": "markdown",
   "metadata": {},
   "source": [
    "***"
   ]
  },
  {
   "cell_type": "markdown",
   "metadata": {},
   "source": [
    "### 2. Identify the Important Metrics"
   ]
  },
  {
   "cell_type": "markdown",
   "metadata": {},
   "source": [
    "#### Revenue Metrics:<br>\n",
    "- Total Revenue: Sum of gross_price * sold_quantity from fact_sales_monthly.\n",
    "- Revenue Growth Rate: Percentage increase/decrease in revenue year-over-year.\n",
    "#### Profit Metrics:\n",
    "- Gross Profit: Revenue minus the manufacturing cost (gross_price * sold_quantity - manufacturing_cost * sold_quantity).\n",
    "- Profit Margin: Gross profit as a percentage of total revenue.\n",
    "- Net Profit: Gross profit minus pre-invoice discounts (gross_profit - (pre_invoice_discount_pct * gross_profit)).\n",
    "- Net Profit Margin: Net profit as a percentage of total revenue.\n",
    "#### Market and Category Metrics:\n",
    "- Revenue by Market: Revenue broken down by market.\n",
    "- Revenue by Platform: Revenue broken down by platform.\n",
    "- Profit by Category: Profitability of different segment and category.\n",
    "#### Trend Metrics:<br>\n",
    "- Market Share: Proportion of total revenue by market.\n",
    "- Revenue/Profit by Year: Trend of revenue and profit over time (fiscal_year)."
   ]
  },
  {
   "cell_type": "markdown",
   "metadata": {},
   "source": [
    "***"
   ]
  },
  {
   "cell_type": "markdown",
   "metadata": {},
   "source": [
    "### 3. Data Preparation and Cleaning"
   ]
  },
  {
   "cell_type": "markdown",
   "metadata": {},
   "source": [
    "#### Data Integrity Check:<br>\n",
    "- Ensure each market belongs to one sub_zone and region.\n",
    "- Validate that each customer has only one associated platform.\n",
    "- Check that product_code is consistent across all fact tables.\n",
    "- Verify that there are only 3 unique values in the division column of the dim_product table.\n",
    "#### Handle Missing Data:<br>\n",
    "- Identify and address missing values in key columns like gross_price, manufacturing_cost, and sold_quantity.\n",
    "- Impute or remove records with missing data as appropriate.\n",
    "#### Feature Engineering:<br>\n",
    "- Create new features like gross_profit, net_profit, profit_margin, and net_profit_margin for further analysis.\n",
    "- Aggregate data by fiscal_year, market, platform, etc., to facilitate trend analysis."
   ]
  },
  {
   "cell_type": "code",
   "execution_count": 1,
   "metadata": {},
   "outputs": [],
   "source": [
    "import sqlite3\n",
    "import pandas as pd"
   ]
  },
  {
   "cell_type": "code",
   "execution_count": 2,
   "metadata": {},
   "outputs": [],
   "source": [
    "con = sqlite3.connect('/Users/cesarchaparro/Desktop/TripleTen/Sprint_12/Final_Project/atliq_db.sqlite3')"
   ]
  },
  {
   "cell_type": "code",
   "execution_count": 3,
   "metadata": {},
   "outputs": [
    {
     "name": "stdout",
     "output_type": "stream",
     "text": [
      "[('dim_customer',), ('dim_product',), ('fact_pre_discount',), ('fact_manufacturing_cost',), ('fact_gross_price',), ('fact_sales_monthly',)]\n"
     ]
    }
   ],
   "source": [
    "cursor = con.cursor()\n",
    "cursor.execute(\"SELECT name FROM sqlite_master WHERE type='table';\")\n",
    "print(cursor.fetchall())"
   ]
  },
  {
   "cell_type": "markdown",
   "metadata": {},
   "source": [
    "#### OPEN EACH TABLE INDIVIDUALLY"
   ]
  },
  {
   "cell_type": "markdown",
   "metadata": {},
   "source": [
    "#### 1. Customer table:"
   ]
  },
  {
   "cell_type": "code",
   "execution_count": 56,
   "metadata": {},
   "outputs": [
    {
     "data": {
      "text/html": [
       "<div>\n",
       "<style scoped>\n",
       "    .dataframe tbody tr th:only-of-type {\n",
       "        vertical-align: middle;\n",
       "    }\n",
       "\n",
       "    .dataframe tbody tr th {\n",
       "        vertical-align: top;\n",
       "    }\n",
       "\n",
       "    .dataframe thead th {\n",
       "        text-align: right;\n",
       "    }\n",
       "</style>\n",
       "<table border=\"1\" class=\"dataframe\">\n",
       "  <thead>\n",
       "    <tr style=\"text-align: right;\">\n",
       "      <th></th>\n",
       "      <th>customer_code</th>\n",
       "      <th>customer</th>\n",
       "      <th>platform</th>\n",
       "      <th>channel</th>\n",
       "      <th>market</th>\n",
       "      <th>sub_zone</th>\n",
       "      <th>region</th>\n",
       "    </tr>\n",
       "  </thead>\n",
       "  <tbody>\n",
       "    <tr>\n",
       "      <th>0</th>\n",
       "      <td>70002017</td>\n",
       "      <td>Atliq Exclusive</td>\n",
       "      <td>Brick &amp; Mortar</td>\n",
       "      <td>Direct</td>\n",
       "      <td>India</td>\n",
       "      <td>India</td>\n",
       "      <td>APAC</td>\n",
       "    </tr>\n",
       "    <tr>\n",
       "      <th>1</th>\n",
       "      <td>70002018</td>\n",
       "      <td>Atliq e Store</td>\n",
       "      <td>E-Commerce</td>\n",
       "      <td>Direct</td>\n",
       "      <td>India</td>\n",
       "      <td>India</td>\n",
       "      <td>APAC</td>\n",
       "    </tr>\n",
       "    <tr>\n",
       "      <th>2</th>\n",
       "      <td>70003181</td>\n",
       "      <td>Atliq Exclusive</td>\n",
       "      <td>Brick &amp; Mortar</td>\n",
       "      <td>Direct</td>\n",
       "      <td>Indonesia</td>\n",
       "      <td>ROA</td>\n",
       "      <td>APAC</td>\n",
       "    </tr>\n",
       "    <tr>\n",
       "      <th>3</th>\n",
       "      <td>70003182</td>\n",
       "      <td>Atliq e Store</td>\n",
       "      <td>E-Commerce</td>\n",
       "      <td>Direct</td>\n",
       "      <td>Indonesia</td>\n",
       "      <td>ROA</td>\n",
       "      <td>APAC</td>\n",
       "    </tr>\n",
       "    <tr>\n",
       "      <th>4</th>\n",
       "      <td>70004069</td>\n",
       "      <td>Atliq Exclusive</td>\n",
       "      <td>Brick &amp; Mortar</td>\n",
       "      <td>Direct</td>\n",
       "      <td>Japan</td>\n",
       "      <td>ROA</td>\n",
       "      <td>APAC</td>\n",
       "    </tr>\n",
       "    <tr>\n",
       "      <th>5</th>\n",
       "      <td>70004070</td>\n",
       "      <td>Atliq e Store</td>\n",
       "      <td>E-Commerce</td>\n",
       "      <td>Direct</td>\n",
       "      <td>Japan</td>\n",
       "      <td>ROA</td>\n",
       "      <td>APAC</td>\n",
       "    </tr>\n",
       "    <tr>\n",
       "      <th>6</th>\n",
       "      <td>70005163</td>\n",
       "      <td>Atliq e Store</td>\n",
       "      <td>E-Commerce</td>\n",
       "      <td>Direct</td>\n",
       "      <td>Pakistan</td>\n",
       "      <td>ROA</td>\n",
       "      <td>APAC</td>\n",
       "    </tr>\n",
       "    <tr>\n",
       "      <th>7</th>\n",
       "      <td>70006157</td>\n",
       "      <td>Atliq Exclusive</td>\n",
       "      <td>Brick &amp; Mortar</td>\n",
       "      <td>Direct</td>\n",
       "      <td>Philiphines</td>\n",
       "      <td>ROA</td>\n",
       "      <td>APAC</td>\n",
       "    </tr>\n",
       "    <tr>\n",
       "      <th>8</th>\n",
       "      <td>70006158</td>\n",
       "      <td>Atliq e Store</td>\n",
       "      <td>E-Commerce</td>\n",
       "      <td>Direct</td>\n",
       "      <td>Philiphines</td>\n",
       "      <td>ROA</td>\n",
       "      <td>APAC</td>\n",
       "    </tr>\n",
       "    <tr>\n",
       "      <th>9</th>\n",
       "      <td>70007198</td>\n",
       "      <td>Atliq Exclusive</td>\n",
       "      <td>Brick &amp; Mortar</td>\n",
       "      <td>Direct</td>\n",
       "      <td>South Korea</td>\n",
       "      <td>ROA</td>\n",
       "      <td>APAC</td>\n",
       "    </tr>\n",
       "  </tbody>\n",
       "</table>\n",
       "</div>"
      ],
      "text/plain": [
       "   customer_code         customer        platform channel       market  \\\n",
       "0       70002017  Atliq Exclusive  Brick & Mortar  Direct        India   \n",
       "1       70002018    Atliq e Store      E-Commerce  Direct        India   \n",
       "2       70003181  Atliq Exclusive  Brick & Mortar  Direct    Indonesia   \n",
       "3       70003182    Atliq e Store      E-Commerce  Direct    Indonesia   \n",
       "4       70004069  Atliq Exclusive  Brick & Mortar  Direct        Japan   \n",
       "5       70004070    Atliq e Store      E-Commerce  Direct        Japan   \n",
       "6       70005163    Atliq e Store      E-Commerce  Direct     Pakistan   \n",
       "7       70006157  Atliq Exclusive  Brick & Mortar  Direct  Philiphines   \n",
       "8       70006158    Atliq e Store      E-Commerce  Direct  Philiphines   \n",
       "9       70007198  Atliq Exclusive  Brick & Mortar  Direct  South Korea   \n",
       "\n",
       "  sub_zone region  \n",
       "0    India   APAC  \n",
       "1    India   APAC  \n",
       "2      ROA   APAC  \n",
       "3      ROA   APAC  \n",
       "4      ROA   APAC  \n",
       "5      ROA   APAC  \n",
       "6      ROA   APAC  \n",
       "7      ROA   APAC  \n",
       "8      ROA   APAC  \n",
       "9      ROA   APAC  "
      ]
     },
     "execution_count": 56,
     "metadata": {},
     "output_type": "execute_result"
    }
   ],
   "source": [
    "# opening the customer table\n",
    "query = \"\"\"Select * from \n",
    "dim_customer\n",
    "\"\"\"\n",
    "dim_customer = pd.read_sql_query(query, con)\n",
    "dim_customer.head(10)"
   ]
  },
  {
   "cell_type": "code",
   "execution_count": 57,
   "metadata": {},
   "outputs": [
    {
     "name": "stdout",
     "output_type": "stream",
     "text": [
      "<class 'pandas.core.frame.DataFrame'>\n",
      "RangeIndex: 209 entries, 0 to 208\n",
      "Data columns (total 7 columns):\n",
      " #   Column         Non-Null Count  Dtype \n",
      "---  ------         --------------  ----- \n",
      " 0   customer_code  209 non-null    int64 \n",
      " 1   customer       209 non-null    object\n",
      " 2   platform       209 non-null    object\n",
      " 3   channel        209 non-null    object\n",
      " 4   market         209 non-null    object\n",
      " 5   sub_zone       209 non-null    object\n",
      " 6   region         209 non-null    object\n",
      "dtypes: int64(1), object(6)\n",
      "memory usage: 11.6+ KB\n"
     ]
    }
   ],
   "source": [
    "dim_customer.info()"
   ]
  },
  {
   "cell_type": "code",
   "execution_count": 5,
   "metadata": {},
   "outputs": [
    {
     "name": "stdout",
     "output_type": "stream",
     "text": [
      "Empty DataFrame\n",
      "Columns: [customer, platform_count]\n",
      "Index: []\n"
     ]
    }
   ],
   "source": [
    "query = \"\"\"SELECT customer, COUNT(DISTINCT platform) AS platform_count\n",
    "FROM dim_customer\n",
    "GROUP BY customer\n",
    "HAVING COUNT(DISTINCT platform) > 1;\n",
    "\"\"\"\n",
    "result = pd.read_sql_query(query, con)\n",
    "print(result)"
   ]
  },
  {
   "cell_type": "markdown",
   "metadata": {},
   "source": [
    "##### There are no customer who have more than one platform. Each customer has one platform."
   ]
  },
  {
   "cell_type": "code",
   "execution_count": 6,
   "metadata": {},
   "outputs": [
    {
     "name": "stdout",
     "output_type": "stream",
     "text": [
      "Empty DataFrame\n",
      "Columns: [market, distinct_subzones, distinct_regions]\n",
      "Index: []\n"
     ]
    }
   ],
   "source": [
    "query = \"\"\"SELECT market, \n",
    "       COUNT(DISTINCT sub_zone) AS distinct_subzones, \n",
    "       COUNT(DISTINCT region) AS distinct_regions\n",
    "FROM dim_customer\n",
    "GROUP BY market\n",
    "HAVING distinct_subzones > 1 OR distinct_regions > 1;\n",
    "\"\"\"\n",
    "result = pd.read_sql_query(query, con)\n",
    "print(result)\n"
   ]
  },
  {
   "cell_type": "markdown",
   "metadata": {},
   "source": [
    "##### Each market has been checked as having only 1 subzone and 1 region under it."
   ]
  },
  {
   "cell_type": "markdown",
   "metadata": {},
   "source": [
    "***"
   ]
  },
  {
   "cell_type": "markdown",
   "metadata": {},
   "source": [
    "#### 2. Product table:"
   ]
  },
  {
   "cell_type": "code",
   "execution_count": 58,
   "metadata": {},
   "outputs": [
    {
     "data": {
      "text/html": [
       "<div>\n",
       "<style scoped>\n",
       "    .dataframe tbody tr th:only-of-type {\n",
       "        vertical-align: middle;\n",
       "    }\n",
       "\n",
       "    .dataframe tbody tr th {\n",
       "        vertical-align: top;\n",
       "    }\n",
       "\n",
       "    .dataframe thead th {\n",
       "        text-align: right;\n",
       "    }\n",
       "</style>\n",
       "<table border=\"1\" class=\"dataframe\">\n",
       "  <thead>\n",
       "    <tr style=\"text-align: right;\">\n",
       "      <th></th>\n",
       "      <th>product_code</th>\n",
       "      <th>division</th>\n",
       "      <th>segment</th>\n",
       "      <th>category</th>\n",
       "      <th>product</th>\n",
       "      <th>variant</th>\n",
       "    </tr>\n",
       "  </thead>\n",
       "  <tbody>\n",
       "    <tr>\n",
       "      <th>0</th>\n",
       "      <td>A0118150101</td>\n",
       "      <td>P &amp; A</td>\n",
       "      <td>Peripherals</td>\n",
       "      <td>Internal HDD</td>\n",
       "      <td>AQ Dracula HDD – 3.5 Inch SATA 6 Gb/s 5400 RPM...</td>\n",
       "      <td>Standard</td>\n",
       "    </tr>\n",
       "    <tr>\n",
       "      <th>1</th>\n",
       "      <td>A0118150102</td>\n",
       "      <td>P &amp; A</td>\n",
       "      <td>Peripherals</td>\n",
       "      <td>Internal HDD</td>\n",
       "      <td>AQ Dracula HDD – 3.5 Inch SATA 6 Gb/s 5400 RPM...</td>\n",
       "      <td>Plus</td>\n",
       "    </tr>\n",
       "    <tr>\n",
       "      <th>2</th>\n",
       "      <td>A0118150103</td>\n",
       "      <td>P &amp; A</td>\n",
       "      <td>Peripherals</td>\n",
       "      <td>Internal HDD</td>\n",
       "      <td>AQ Dracula HDD – 3.5 Inch SATA 6 Gb/s 5400 RPM...</td>\n",
       "      <td>Premium</td>\n",
       "    </tr>\n",
       "    <tr>\n",
       "      <th>3</th>\n",
       "      <td>A0118150104</td>\n",
       "      <td>P &amp; A</td>\n",
       "      <td>Peripherals</td>\n",
       "      <td>Internal HDD</td>\n",
       "      <td>AQ Dracula HDD – 3.5 Inch SATA 6 Gb/s 5400 RPM...</td>\n",
       "      <td>Premium Plus</td>\n",
       "    </tr>\n",
       "    <tr>\n",
       "      <th>4</th>\n",
       "      <td>A0219150201</td>\n",
       "      <td>P &amp; A</td>\n",
       "      <td>Peripherals</td>\n",
       "      <td>Internal HDD</td>\n",
       "      <td>AQ WereWolf NAS Internal Hard Drive HDD – 8.89 cm</td>\n",
       "      <td>Standard</td>\n",
       "    </tr>\n",
       "  </tbody>\n",
       "</table>\n",
       "</div>"
      ],
      "text/plain": [
       "  product_code division      segment      category  \\\n",
       "0  A0118150101    P & A  Peripherals  Internal HDD   \n",
       "1  A0118150102    P & A  Peripherals  Internal HDD   \n",
       "2  A0118150103    P & A  Peripherals  Internal HDD   \n",
       "3  A0118150104    P & A  Peripherals  Internal HDD   \n",
       "4  A0219150201    P & A  Peripherals  Internal HDD   \n",
       "\n",
       "                                             product       variant  \n",
       "0  AQ Dracula HDD – 3.5 Inch SATA 6 Gb/s 5400 RPM...      Standard  \n",
       "1  AQ Dracula HDD – 3.5 Inch SATA 6 Gb/s 5400 RPM...          Plus  \n",
       "2  AQ Dracula HDD – 3.5 Inch SATA 6 Gb/s 5400 RPM...       Premium  \n",
       "3  AQ Dracula HDD – 3.5 Inch SATA 6 Gb/s 5400 RPM...  Premium Plus  \n",
       "4  AQ WereWolf NAS Internal Hard Drive HDD – 8.89 cm      Standard  "
      ]
     },
     "execution_count": 58,
     "metadata": {},
     "output_type": "execute_result"
    }
   ],
   "source": [
    "# opening the product table\n",
    "query = \"\"\"Select * from \n",
    "dim_product\n",
    "\"\"\"\n",
    "dim_product = pd.read_sql_query(query, con)\n",
    "dim_product.head()"
   ]
  },
  {
   "cell_type": "code",
   "execution_count": 39,
   "metadata": {},
   "outputs": [
    {
     "name": "stdout",
     "output_type": "stream",
     "text": [
      "<class 'pandas.core.frame.DataFrame'>\n",
      "RangeIndex: 397 entries, 0 to 396\n",
      "Data columns (total 6 columns):\n",
      " #   Column        Non-Null Count  Dtype \n",
      "---  ------        --------------  ----- \n",
      " 0   product_code  397 non-null    object\n",
      " 1   division      397 non-null    object\n",
      " 2   segment       397 non-null    object\n",
      " 3   category      397 non-null    object\n",
      " 4   product       397 non-null    object\n",
      " 5   variant       397 non-null    object\n",
      "dtypes: object(6)\n",
      "memory usage: 18.7+ KB\n"
     ]
    }
   ],
   "source": [
    "dim_product.info()"
   ]
  },
  {
   "cell_type": "code",
   "execution_count": 40,
   "metadata": {},
   "outputs": [
    {
     "name": "stdout",
     "output_type": "stream",
     "text": [
      "   unique_divisions\n",
      "0                 3\n",
      "There are exactly 3 unique values in the 'division' column.\n"
     ]
    }
   ],
   "source": [
    "query = \"\"\"SELECT COUNT(DISTINCT division) as unique_divisions \n",
    "FROM dim_product;\n",
    "\"\"\"\n",
    "result = pd.read_sql_query(query, con)\n",
    "print(result)\n",
    "\n",
    "if result['unique_divisions'][0] == 3:\n",
    "    print(\"There are exactly 3 unique values in the 'division' column.\")\n",
    "else:\n",
    "    print(f\"There are {result['unique_divisions'][0]} unique values in the 'division' column.\")"
   ]
  },
  {
   "cell_type": "markdown",
   "metadata": {},
   "source": [
    "##### After verifying the column I can conclude that there are only 3 types of divisions on the column."
   ]
  },
  {
   "cell_type": "code",
   "execution_count": 41,
   "metadata": {},
   "outputs": [
    {
     "name": "stdout",
     "output_type": "stream",
     "text": [
      "   unique_segments\n",
      "0                6\n",
      "There are exactly 6 unique values in the 'segment' column.\n"
     ]
    }
   ],
   "source": [
    "query = \"\"\"SELECT COUNT(DISTINCT segment) as unique_segments \n",
    "FROM dim_product;\n",
    "\"\"\"\n",
    "result = pd.read_sql_query(query, con)\n",
    "print(result)\n",
    "\n",
    "if result['unique_segments'][0] == 6:\n",
    "    print(\"There are exactly 6 unique values in the 'segment' column.\")\n",
    "else:\n",
    "    print(f\"There are {result['unique_segments'][0]} unique values in the 'segment' column.\")"
   ]
  },
  {
   "cell_type": "markdown",
   "metadata": {},
   "source": [
    "##### After verifying the segments column I can conclude that there are only 6 types of segments on the column."
   ]
  },
  {
   "cell_type": "code",
   "execution_count": 42,
   "metadata": {},
   "outputs": [
    {
     "name": "stdout",
     "output_type": "stream",
     "text": [
      "<class 'pandas.core.frame.DataFrame'>\n",
      "RangeIndex: 397 entries, 0 to 396\n",
      "Data columns (total 1 columns):\n",
      " #   Column        Non-Null Count  Dtype \n",
      "---  ------        --------------  ----- \n",
      " 0   product_code  397 non-null    object\n",
      "dtypes: object(1)\n",
      "memory usage: 3.2+ KB\n"
     ]
    }
   ],
   "source": [
    "# checking the dim_product table for unique product codes\n",
    "query = \"SELECT DISTINCT product_code FROM dim_product\"\n",
    "dim_product_codes = pd.read_sql_query(query, con)\n",
    "dim_product_codes.info()"
   ]
  },
  {
   "cell_type": "markdown",
   "metadata": {},
   "source": [
    "#### After checking the unique codes for each product we can see that there are no duplicates, missing or abnormal codes. Each product code has a unique value."
   ]
  },
  {
   "cell_type": "markdown",
   "metadata": {},
   "source": [
    "#### Product codes are also used in other related tables, such as fact_manufacturing_cost, fact_gross_price, and fact_sales_monthly."
   ]
  },
  {
   "cell_type": "markdown",
   "metadata": {},
   "source": [
    "***"
   ]
  },
  {
   "cell_type": "markdown",
   "metadata": {},
   "source": [
    "#### 3. Discounts table:"
   ]
  },
  {
   "cell_type": "code",
   "execution_count": 54,
   "metadata": {},
   "outputs": [
    {
     "data": {
      "text/html": [
       "<div>\n",
       "<style scoped>\n",
       "    .dataframe tbody tr th:only-of-type {\n",
       "        vertical-align: middle;\n",
       "    }\n",
       "\n",
       "    .dataframe tbody tr th {\n",
       "        vertical-align: top;\n",
       "    }\n",
       "\n",
       "    .dataframe thead th {\n",
       "        text-align: right;\n",
       "    }\n",
       "</style>\n",
       "<table border=\"1\" class=\"dataframe\">\n",
       "  <thead>\n",
       "    <tr style=\"text-align: right;\">\n",
       "      <th></th>\n",
       "      <th>customer_code</th>\n",
       "      <th>fiscal_year</th>\n",
       "      <th>pre_invoice_discount_pct</th>\n",
       "    </tr>\n",
       "  </thead>\n",
       "  <tbody>\n",
       "    <tr>\n",
       "      <th>0</th>\n",
       "      <td>70002017</td>\n",
       "      <td>2018</td>\n",
       "      <td>0.0824</td>\n",
       "    </tr>\n",
       "    <tr>\n",
       "      <th>1</th>\n",
       "      <td>70002017</td>\n",
       "      <td>2019</td>\n",
       "      <td>0.0777</td>\n",
       "    </tr>\n",
       "    <tr>\n",
       "      <th>2</th>\n",
       "      <td>70002017</td>\n",
       "      <td>2020</td>\n",
       "      <td>0.0735</td>\n",
       "    </tr>\n",
       "    <tr>\n",
       "      <th>3</th>\n",
       "      <td>70002017</td>\n",
       "      <td>2021</td>\n",
       "      <td>0.0703</td>\n",
       "    </tr>\n",
       "    <tr>\n",
       "      <th>4</th>\n",
       "      <td>70002017</td>\n",
       "      <td>2022</td>\n",
       "      <td>0.1057</td>\n",
       "    </tr>\n",
       "    <tr>\n",
       "      <th>5</th>\n",
       "      <td>70002018</td>\n",
       "      <td>2018</td>\n",
       "      <td>0.2956</td>\n",
       "    </tr>\n",
       "    <tr>\n",
       "      <th>6</th>\n",
       "      <td>70002018</td>\n",
       "      <td>2019</td>\n",
       "      <td>0.2577</td>\n",
       "    </tr>\n",
       "    <tr>\n",
       "      <th>7</th>\n",
       "      <td>70002018</td>\n",
       "      <td>2020</td>\n",
       "      <td>0.2255</td>\n",
       "    </tr>\n",
       "    <tr>\n",
       "      <th>8</th>\n",
       "      <td>70002018</td>\n",
       "      <td>2021</td>\n",
       "      <td>0.2061</td>\n",
       "    </tr>\n",
       "    <tr>\n",
       "      <th>9</th>\n",
       "      <td>70002018</td>\n",
       "      <td>2022</td>\n",
       "      <td>0.2931</td>\n",
       "    </tr>\n",
       "  </tbody>\n",
       "</table>\n",
       "</div>"
      ],
      "text/plain": [
       "   customer_code  fiscal_year  pre_invoice_discount_pct\n",
       "0       70002017         2018                    0.0824\n",
       "1       70002017         2019                    0.0777\n",
       "2       70002017         2020                    0.0735\n",
       "3       70002017         2021                    0.0703\n",
       "4       70002017         2022                    0.1057\n",
       "5       70002018         2018                    0.2956\n",
       "6       70002018         2019                    0.2577\n",
       "7       70002018         2020                    0.2255\n",
       "8       70002018         2021                    0.2061\n",
       "9       70002018         2022                    0.2931"
      ]
     },
     "execution_count": 54,
     "metadata": {},
     "output_type": "execute_result"
    }
   ],
   "source": [
    "# opening the discounts applied to customers table\n",
    "query = \"\"\"Select * from \n",
    "fact_pre_discount\n",
    "\"\"\"\n",
    "fact_pre_discount = pd.read_sql_query(query, con)\n",
    "fact_pre_discount.head(10)"
   ]
  },
  {
   "cell_type": "code",
   "execution_count": 55,
   "metadata": {},
   "outputs": [
    {
     "name": "stdout",
     "output_type": "stream",
     "text": [
      "<class 'pandas.core.frame.DataFrame'>\n",
      "RangeIndex: 1045 entries, 0 to 1044\n",
      "Data columns (total 3 columns):\n",
      " #   Column                    Non-Null Count  Dtype  \n",
      "---  ------                    --------------  -----  \n",
      " 0   customer_code             1045 non-null   int64  \n",
      " 1   fiscal_year               1045 non-null   int64  \n",
      " 2   pre_invoice_discount_pct  1045 non-null   float64\n",
      "dtypes: float64(1), int64(2)\n",
      "memory usage: 24.6 KB\n"
     ]
    }
   ],
   "source": [
    "fact_pre_discount.info()"
   ]
  },
  {
   "cell_type": "markdown",
   "metadata": {},
   "source": [
    "#### 4. Costs table:"
   ]
  },
  {
   "cell_type": "code",
   "execution_count": 49,
   "metadata": {},
   "outputs": [
    {
     "data": {
      "text/html": [
       "<div>\n",
       "<style scoped>\n",
       "    .dataframe tbody tr th:only-of-type {\n",
       "        vertical-align: middle;\n",
       "    }\n",
       "\n",
       "    .dataframe tbody tr th {\n",
       "        vertical-align: top;\n",
       "    }\n",
       "\n",
       "    .dataframe thead th {\n",
       "        text-align: right;\n",
       "    }\n",
       "</style>\n",
       "<table border=\"1\" class=\"dataframe\">\n",
       "  <thead>\n",
       "    <tr style=\"text-align: right;\">\n",
       "      <th></th>\n",
       "      <th>product_code</th>\n",
       "      <th>cost_year</th>\n",
       "      <th>manufacturing_cost</th>\n",
       "    </tr>\n",
       "  </thead>\n",
       "  <tbody>\n",
       "    <tr>\n",
       "      <th>0</th>\n",
       "      <td>A0118150101</td>\n",
       "      <td>2018</td>\n",
       "      <td>4.6190</td>\n",
       "    </tr>\n",
       "    <tr>\n",
       "      <th>1</th>\n",
       "      <td>A0118150101</td>\n",
       "      <td>2019</td>\n",
       "      <td>4.2033</td>\n",
       "    </tr>\n",
       "    <tr>\n",
       "      <th>2</th>\n",
       "      <td>A0118150101</td>\n",
       "      <td>2020</td>\n",
       "      <td>5.0207</td>\n",
       "    </tr>\n",
       "    <tr>\n",
       "      <th>3</th>\n",
       "      <td>A0118150101</td>\n",
       "      <td>2021</td>\n",
       "      <td>5.5172</td>\n",
       "    </tr>\n",
       "    <tr>\n",
       "      <th>4</th>\n",
       "      <td>A0118150102</td>\n",
       "      <td>2018</td>\n",
       "      <td>5.6036</td>\n",
       "    </tr>\n",
       "  </tbody>\n",
       "</table>\n",
       "</div>"
      ],
      "text/plain": [
       "  product_code  cost_year  manufacturing_cost\n",
       "0  A0118150101       2018              4.6190\n",
       "1  A0118150101       2019              4.2033\n",
       "2  A0118150101       2020              5.0207\n",
       "3  A0118150101       2021              5.5172\n",
       "4  A0118150102       2018              5.6036"
      ]
     },
     "execution_count": 49,
     "metadata": {},
     "output_type": "execute_result"
    }
   ],
   "source": [
    "# opening the cost table\n",
    "query = \"\"\"Select * from \n",
    "fact_manufacturing_cost\n",
    "\"\"\"\n",
    "fact_manufacturing_cost = pd.read_sql_query(query, con)\n",
    "fact_manufacturing_cost.head()"
   ]
  },
  {
   "cell_type": "code",
   "execution_count": 50,
   "metadata": {},
   "outputs": [
    {
     "name": "stdout",
     "output_type": "stream",
     "text": [
      "<class 'pandas.core.frame.DataFrame'>\n",
      "RangeIndex: 1182 entries, 0 to 1181\n",
      "Data columns (total 3 columns):\n",
      " #   Column              Non-Null Count  Dtype  \n",
      "---  ------              --------------  -----  \n",
      " 0   product_code        1182 non-null   object \n",
      " 1   cost_year           1182 non-null   int64  \n",
      " 2   manufacturing_cost  1182 non-null   float64\n",
      "dtypes: float64(1), int64(1), object(1)\n",
      "memory usage: 27.8+ KB\n"
     ]
    }
   ],
   "source": [
    "fact_manufacturing_cost.info()"
   ]
  },
  {
   "cell_type": "markdown",
   "metadata": {},
   "source": [
    "#### Product codes are also used in other related tables, as fact_manufacturing_cost."
   ]
  },
  {
   "cell_type": "code",
   "execution_count": 51,
   "metadata": {},
   "outputs": [
    {
     "name": "stdout",
     "output_type": "stream",
     "text": [
      "<class 'pandas.core.frame.DataFrame'>\n",
      "RangeIndex: 389 entries, 0 to 388\n",
      "Data columns (total 1 columns):\n",
      " #   Column        Non-Null Count  Dtype \n",
      "---  ------        --------------  ----- \n",
      " 0   product_code  389 non-null    object\n",
      "dtypes: object(1)\n",
      "memory usage: 3.2+ KB\n"
     ]
    }
   ],
   "source": [
    "# query to fetch all unique product codes from fact_manufacturing_cost\n",
    "query = \"SELECT DISTINCT product_code FROM fact_manufacturing_cost\"\n",
    "fact_manufacturing_cost_codes = pd.read_sql_query(query, con)\n",
    "fact_manufacturing_cost_codes.info()"
   ]
  },
  {
   "cell_type": "code",
   "execution_count": 52,
   "metadata": {},
   "outputs": [
    {
     "name": "stdout",
     "output_type": "stream",
     "text": [
      "Product codes in dim_product missing in fact_manufacturing_cost:\n",
      "    product_code\n",
      "376  A6718160102\n",
      "377  A6719160101\n",
      "382  A6918160303\n",
      "383  A6919160302\n",
      "384  A6921160301\n",
      "385  A7018160402\n",
      "386  A7019160401\n",
      "387  A7020160403\n"
     ]
    }
   ],
   "source": [
    "# check for missing product codes\n",
    "missing_in_fact_manufacturing = dim_product_codes[~dim_product_codes['product_code'].isin(fact_manufacturing_cost_codes['product_code'])]\n",
    "print(\"Product codes in dim_product missing in fact_manufacturing_cost:\")\n",
    "print(missing_in_fact_manufacturing)"
   ]
  },
  {
   "cell_type": "markdown",
   "metadata": {},
   "source": [
    "#### I want to ensure that there are no product codes in the fact_manufacturing_cost that do not exist in the dim_product table."
   ]
  },
  {
   "cell_type": "code",
   "execution_count": 71,
   "metadata": {},
   "outputs": [
    {
     "name": "stdout",
     "output_type": "stream",
     "text": [
      "Product codes in fact_manufacturing_cost not found in dim_product:\n",
      "Empty DataFrame\n",
      "Columns: [product_code]\n",
      "Index: []\n"
     ]
    }
   ],
   "source": [
    "# check for product codes in fact_manufacturing_cost that are not in dim_product\n",
    "extra_in_fact_manufacturing = fact_manufacturing_cost_codes[~fact_manufacturing_cost_codes['product_code'].isin(dim_product_codes['product_code'])]\n",
    "print(\"Product codes in fact_manufacturing_cost not found in dim_product:\")\n",
    "print(extra_in_fact_manufacturing)"
   ]
  },
  {
   "cell_type": "markdown",
   "metadata": {},
   "source": [
    "#### 5. Pricing table:"
   ]
  },
  {
   "cell_type": "code",
   "execution_count": 59,
   "metadata": {},
   "outputs": [
    {
     "data": {
      "text/html": [
       "<div>\n",
       "<style scoped>\n",
       "    .dataframe tbody tr th:only-of-type {\n",
       "        vertical-align: middle;\n",
       "    }\n",
       "\n",
       "    .dataframe tbody tr th {\n",
       "        vertical-align: top;\n",
       "    }\n",
       "\n",
       "    .dataframe thead th {\n",
       "        text-align: right;\n",
       "    }\n",
       "</style>\n",
       "<table border=\"1\" class=\"dataframe\">\n",
       "  <thead>\n",
       "    <tr style=\"text-align: right;\">\n",
       "      <th></th>\n",
       "      <th>product_code</th>\n",
       "      <th>fiscal_year</th>\n",
       "      <th>gross_price</th>\n",
       "    </tr>\n",
       "  </thead>\n",
       "  <tbody>\n",
       "    <tr>\n",
       "      <th>0</th>\n",
       "      <td>A0118150101</td>\n",
       "      <td>2018</td>\n",
       "      <td>15.3952</td>\n",
       "    </tr>\n",
       "    <tr>\n",
       "      <th>1</th>\n",
       "      <td>A0118150101</td>\n",
       "      <td>2019</td>\n",
       "      <td>14.4392</td>\n",
       "    </tr>\n",
       "    <tr>\n",
       "      <th>2</th>\n",
       "      <td>A0118150101</td>\n",
       "      <td>2020</td>\n",
       "      <td>16.2323</td>\n",
       "    </tr>\n",
       "    <tr>\n",
       "      <th>3</th>\n",
       "      <td>A0118150101</td>\n",
       "      <td>2021</td>\n",
       "      <td>19.0573</td>\n",
       "    </tr>\n",
       "    <tr>\n",
       "      <th>4</th>\n",
       "      <td>A0118150102</td>\n",
       "      <td>2018</td>\n",
       "      <td>19.5875</td>\n",
       "    </tr>\n",
       "    <tr>\n",
       "      <th>5</th>\n",
       "      <td>A0118150102</td>\n",
       "      <td>2019</td>\n",
       "      <td>18.5595</td>\n",
       "    </tr>\n",
       "    <tr>\n",
       "      <th>6</th>\n",
       "      <td>A0118150102</td>\n",
       "      <td>2020</td>\n",
       "      <td>19.8577</td>\n",
       "    </tr>\n",
       "    <tr>\n",
       "      <th>7</th>\n",
       "      <td>A0118150102</td>\n",
       "      <td>2021</td>\n",
       "      <td>21.4565</td>\n",
       "    </tr>\n",
       "    <tr>\n",
       "      <th>8</th>\n",
       "      <td>A0118150103</td>\n",
       "      <td>2018</td>\n",
       "      <td>19.3630</td>\n",
       "    </tr>\n",
       "    <tr>\n",
       "      <th>9</th>\n",
       "      <td>A0118150103</td>\n",
       "      <td>2019</td>\n",
       "      <td>19.3442</td>\n",
       "    </tr>\n",
       "  </tbody>\n",
       "</table>\n",
       "</div>"
      ],
      "text/plain": [
       "  product_code  fiscal_year  gross_price\n",
       "0  A0118150101         2018      15.3952\n",
       "1  A0118150101         2019      14.4392\n",
       "2  A0118150101         2020      16.2323\n",
       "3  A0118150101         2021      19.0573\n",
       "4  A0118150102         2018      19.5875\n",
       "5  A0118150102         2019      18.5595\n",
       "6  A0118150102         2020      19.8577\n",
       "7  A0118150102         2021      21.4565\n",
       "8  A0118150103         2018      19.3630\n",
       "9  A0118150103         2019      19.3442"
      ]
     },
     "execution_count": 59,
     "metadata": {},
     "output_type": "execute_result"
    }
   ],
   "source": [
    "# opening the prices table\n",
    "query = \"\"\"Select * from \n",
    "fact_gross_price\n",
    "\"\"\"\n",
    "fact_gross_price = pd.read_sql_query(query, con)\n",
    "fact_gross_price.head(10)"
   ]
  },
  {
   "cell_type": "code",
   "execution_count": 60,
   "metadata": {},
   "outputs": [
    {
     "name": "stdout",
     "output_type": "stream",
     "text": [
      "<class 'pandas.core.frame.DataFrame'>\n",
      "RangeIndex: 1182 entries, 0 to 1181\n",
      "Data columns (total 3 columns):\n",
      " #   Column        Non-Null Count  Dtype  \n",
      "---  ------        --------------  -----  \n",
      " 0   product_code  1182 non-null   object \n",
      " 1   fiscal_year   1182 non-null   int64  \n",
      " 2   gross_price   1182 non-null   float64\n",
      "dtypes: float64(1), int64(1), object(1)\n",
      "memory usage: 27.8+ KB\n"
     ]
    }
   ],
   "source": [
    "fact_gross_price.info()"
   ]
  },
  {
   "cell_type": "markdown",
   "metadata": {},
   "source": [
    "#### Product codes are also used in other related tables, as fact_gross_price."
   ]
  },
  {
   "cell_type": "code",
   "execution_count": 63,
   "metadata": {},
   "outputs": [
    {
     "name": "stdout",
     "output_type": "stream",
     "text": [
      "<class 'pandas.core.frame.DataFrame'>\n",
      "RangeIndex: 389 entries, 0 to 388\n",
      "Data columns (total 1 columns):\n",
      " #   Column        Non-Null Count  Dtype \n",
      "---  ------        --------------  ----- \n",
      " 0   product_code  389 non-null    object\n",
      "dtypes: object(1)\n",
      "memory usage: 3.2+ KB\n"
     ]
    }
   ],
   "source": [
    "# query to fetch all unique product codes from fact_gross_price\n",
    "query = \"SELECT DISTINCT product_code FROM fact_gross_price\"\n",
    "fact_gross_price_codes = pd.read_sql_query(query, con)\n",
    "fact_gross_price_codes.info()"
   ]
  },
  {
   "cell_type": "code",
   "execution_count": 66,
   "metadata": {},
   "outputs": [
    {
     "name": "stdout",
     "output_type": "stream",
     "text": [
      "Product codes in dim_product missing in fact_gross_price:\n",
      "    product_code\n",
      "376  A6718160102\n",
      "377  A6719160101\n",
      "382  A6918160303\n",
      "383  A6919160302\n",
      "384  A6921160301\n",
      "385  A7018160402\n",
      "386  A7019160401\n",
      "387  A7020160403\n"
     ]
    }
   ],
   "source": [
    "# check for missing product codes\n",
    "missing_in_fact_gross_price = dim_product_codes[~dim_product_codes['product_code'].isin(fact_gross_price_codes['product_code'])]\n",
    "print(\"Product codes in dim_product missing in fact_gross_price:\")\n",
    "print(missing_in_fact_gross_price)"
   ]
  },
  {
   "cell_type": "markdown",
   "metadata": {},
   "source": [
    "#### I want to ensure that there are no product codes in the fact_gross_price that do not exist in the dim_product table."
   ]
  },
  {
   "cell_type": "code",
   "execution_count": 72,
   "metadata": {},
   "outputs": [
    {
     "name": "stdout",
     "output_type": "stream",
     "text": [
      "Product codes in fact_gross_price not found in dim_product:\n",
      "Empty DataFrame\n",
      "Columns: [product_code]\n",
      "Index: []\n"
     ]
    }
   ],
   "source": [
    "# check for product codes in fact_gross_price that are not in dim_product\n",
    "extra_in_fact_gross_price = fact_gross_price_codes[~fact_gross_price_codes['product_code'].isin(dim_product_codes['product_code'])]\n",
    "print(\"Product codes in fact_gross_price not found in dim_product:\")\n",
    "print(extra_in_fact_gross_price)"
   ]
  },
  {
   "cell_type": "markdown",
   "metadata": {},
   "source": [
    "#### 6. Sales table:"
   ]
  },
  {
   "cell_type": "code",
   "execution_count": 61,
   "metadata": {},
   "outputs": [
    {
     "data": {
      "text/html": [
       "<div>\n",
       "<style scoped>\n",
       "    .dataframe tbody tr th:only-of-type {\n",
       "        vertical-align: middle;\n",
       "    }\n",
       "\n",
       "    .dataframe tbody tr th {\n",
       "        vertical-align: top;\n",
       "    }\n",
       "\n",
       "    .dataframe thead th {\n",
       "        text-align: right;\n",
       "    }\n",
       "</style>\n",
       "<table border=\"1\" class=\"dataframe\">\n",
       "  <thead>\n",
       "    <tr style=\"text-align: right;\">\n",
       "      <th></th>\n",
       "      <th>date</th>\n",
       "      <th>product_code</th>\n",
       "      <th>customer_code</th>\n",
       "      <th>sold_quantity</th>\n",
       "      <th>fiscal_year</th>\n",
       "    </tr>\n",
       "  </thead>\n",
       "  <tbody>\n",
       "    <tr>\n",
       "      <th>0</th>\n",
       "      <td>2017-09-01</td>\n",
       "      <td>A0118150101</td>\n",
       "      <td>70002017.0</td>\n",
       "      <td>51.0</td>\n",
       "      <td>2018.0</td>\n",
       "    </tr>\n",
       "    <tr>\n",
       "      <th>1</th>\n",
       "      <td>2017-09-01</td>\n",
       "      <td>A0118150101</td>\n",
       "      <td>70002018.0</td>\n",
       "      <td>77.0</td>\n",
       "      <td>2018.0</td>\n",
       "    </tr>\n",
       "    <tr>\n",
       "      <th>2</th>\n",
       "      <td>2017-09-01</td>\n",
       "      <td>A0118150101</td>\n",
       "      <td>70003181.0</td>\n",
       "      <td>17.0</td>\n",
       "      <td>2018.0</td>\n",
       "    </tr>\n",
       "    <tr>\n",
       "      <th>3</th>\n",
       "      <td>2017-09-01</td>\n",
       "      <td>A0118150101</td>\n",
       "      <td>70003182.0</td>\n",
       "      <td>6.0</td>\n",
       "      <td>2018.0</td>\n",
       "    </tr>\n",
       "    <tr>\n",
       "      <th>4</th>\n",
       "      <td>2017-09-01</td>\n",
       "      <td>A0118150101</td>\n",
       "      <td>70006157.0</td>\n",
       "      <td>5.0</td>\n",
       "      <td>2018.0</td>\n",
       "    </tr>\n",
       "    <tr>\n",
       "      <th>5</th>\n",
       "      <td>2017-09-01</td>\n",
       "      <td>A0118150101</td>\n",
       "      <td>70006158.0</td>\n",
       "      <td>7.0</td>\n",
       "      <td>2018.0</td>\n",
       "    </tr>\n",
       "    <tr>\n",
       "      <th>6</th>\n",
       "      <td>2017-09-01</td>\n",
       "      <td>A0118150101</td>\n",
       "      <td>70007198.0</td>\n",
       "      <td>29.0</td>\n",
       "      <td>2018.0</td>\n",
       "    </tr>\n",
       "    <tr>\n",
       "      <th>7</th>\n",
       "      <td>2017-09-01</td>\n",
       "      <td>A0118150101</td>\n",
       "      <td>70007199.0</td>\n",
       "      <td>34.0</td>\n",
       "      <td>2018.0</td>\n",
       "    </tr>\n",
       "    <tr>\n",
       "      <th>8</th>\n",
       "      <td>2017-09-01</td>\n",
       "      <td>A0118150101</td>\n",
       "      <td>70008169.0</td>\n",
       "      <td>22.0</td>\n",
       "      <td>2018.0</td>\n",
       "    </tr>\n",
       "    <tr>\n",
       "      <th>9</th>\n",
       "      <td>2017-09-01</td>\n",
       "      <td>A0118150101</td>\n",
       "      <td>70008170.0</td>\n",
       "      <td>5.0</td>\n",
       "      <td>2018.0</td>\n",
       "    </tr>\n",
       "  </tbody>\n",
       "</table>\n",
       "</div>"
      ],
      "text/plain": [
       "         date product_code  customer_code  sold_quantity  fiscal_year\n",
       "0  2017-09-01  A0118150101     70002017.0           51.0       2018.0\n",
       "1  2017-09-01  A0118150101     70002018.0           77.0       2018.0\n",
       "2  2017-09-01  A0118150101     70003181.0           17.0       2018.0\n",
       "3  2017-09-01  A0118150101     70003182.0            6.0       2018.0\n",
       "4  2017-09-01  A0118150101     70006157.0            5.0       2018.0\n",
       "5  2017-09-01  A0118150101     70006158.0            7.0       2018.0\n",
       "6  2017-09-01  A0118150101     70007198.0           29.0       2018.0\n",
       "7  2017-09-01  A0118150101     70007199.0           34.0       2018.0\n",
       "8  2017-09-01  A0118150101     70008169.0           22.0       2018.0\n",
       "9  2017-09-01  A0118150101     70008170.0            5.0       2018.0"
      ]
     },
     "execution_count": 61,
     "metadata": {},
     "output_type": "execute_result"
    }
   ],
   "source": [
    "# opening the sales table\n",
    "query = \"\"\"Select * from \n",
    "fact_sales_monthly\n",
    "\"\"\"\n",
    "fact_sales_monthly = pd.read_sql_query(query, con)\n",
    "fact_sales_monthly.head(10)"
   ]
  },
  {
   "cell_type": "code",
   "execution_count": 62,
   "metadata": {},
   "outputs": [
    {
     "name": "stdout",
     "output_type": "stream",
     "text": [
      "<class 'pandas.core.frame.DataFrame'>\n",
      "RangeIndex: 67251 entries, 0 to 67250\n",
      "Data columns (total 5 columns):\n",
      " #   Column         Non-Null Count  Dtype  \n",
      "---  ------         --------------  -----  \n",
      " 0   date           67251 non-null  object \n",
      " 1   product_code   67251 non-null  object \n",
      " 2   customer_code  67250 non-null  float64\n",
      " 3   sold_quantity  67250 non-null  float64\n",
      " 4   fiscal_year    67250 non-null  float64\n",
      "dtypes: float64(3), object(2)\n",
      "memory usage: 2.6+ MB\n"
     ]
    }
   ],
   "source": [
    "fact_sales_monthly.info()"
   ]
  },
  {
   "cell_type": "markdown",
   "metadata": {},
   "source": [
    "#### Product codes are also used in other related tables, as fact_sales_monthly."
   ]
  },
  {
   "cell_type": "code",
   "execution_count": 68,
   "metadata": {},
   "outputs": [
    {
     "name": "stdout",
     "output_type": "stream",
     "text": [
      "<class 'pandas.core.frame.DataFrame'>\n",
      "RangeIndex: 15 entries, 0 to 14\n",
      "Data columns (total 1 columns):\n",
      " #   Column        Non-Null Count  Dtype \n",
      "---  ------        --------------  ----- \n",
      " 0   product_code  15 non-null     object\n",
      "dtypes: object(1)\n",
      "memory usage: 252.0+ bytes\n"
     ]
    }
   ],
   "source": [
    "# query to fetch all unique product codes from fact_sales_monthly\n",
    "query = \"SELECT DISTINCT product_code FROM fact_sales_monthly\"\n",
    "fact_sales_monthly_codes = pd.read_sql_query(query, con)\n",
    "fact_sales_monthly_codes.info()"
   ]
  },
  {
   "cell_type": "code",
   "execution_count": 70,
   "metadata": {},
   "outputs": [
    {
     "name": "stdout",
     "output_type": "stream",
     "text": [
      "Product codes in dim_product missing in fact_sales_monthly:\n",
      "<class 'pandas.core.frame.DataFrame'>\n",
      "Index: 383 entries, 14 to 396\n",
      "Data columns (total 1 columns):\n",
      " #   Column        Non-Null Count  Dtype \n",
      "---  ------        --------------  ----- \n",
      " 0   product_code  383 non-null    object\n",
      "dtypes: object(1)\n",
      "memory usage: 6.0+ KB\n"
     ]
    }
   ],
   "source": [
    "# check for missing product codes\n",
    "missing_in_fact_sales_monthly = dim_product_codes[~dim_product_codes['product_code'].isin(fact_sales_monthly_codes['product_code'])]\n",
    "print(\"Product codes in dim_product missing in fact_sales_monthly:\")\n",
    "missing_in_fact_sales_monthly.info()"
   ]
  },
  {
   "cell_type": "markdown",
   "metadata": {},
   "source": [
    "#### I want to ensure that there are no product codes in the fact_sales_monthly that do not exist in the dim_product table."
   ]
  },
  {
   "cell_type": "code",
   "execution_count": 73,
   "metadata": {},
   "outputs": [
    {
     "name": "stdout",
     "output_type": "stream",
     "text": [
      "Product codes in fact_sales_monthly not found in dim_product:\n",
      "   product_code\n",
      "14           A0\n"
     ]
    }
   ],
   "source": [
    "# Check for product codes in fact_sales_monthly that are not in dim_product\n",
    "extra_in_fact_sales_monthly = fact_sales_monthly_codes[~fact_sales_monthly_codes['product_code'].isin(dim_product_codes['product_code'])]\n",
    "print(\"Product codes in fact_sales_monthly not found in dim_product:\")\n",
    "print(extra_in_fact_sales_monthly)"
   ]
  },
  {
   "cell_type": "markdown",
   "metadata": {},
   "source": [
    "***"
   ]
  },
  {
   "cell_type": "markdown",
   "metadata": {},
   "source": [
    "### 4. Exploratory Data Analysis (EDA)"
   ]
  },
  {
   "cell_type": "markdown",
   "metadata": {},
   "source": [
    "#### Descriptive Statistics:<br>\n",
    "- Calculate mean, median, and standard deviation for revenue, profit, and margin metrics.\n",
    "- Identify outliers or unusual trends in the data.\n",
    "#### Trend Analysis:<br>\n",
    "- Plot revenue, profit, and margin over time to visualize trends.\n",
    "- Use time series analysis to forecast future revenue and profit.\n",
    "#### Segment Analysis:<br>\n",
    "- Break down revenue and profit by platform, market, region, and category.\n",
    "- Identify which segments contribute most to overall profitability.\n",
    "#### Correlation Analysis:<br>\n",
    "- Analyze the relationship between different metrics (e.g., how does discount percentage affect net profit?).\n",
    "- Look for correlations between market conditions and profitability."
   ]
  },
  {
   "cell_type": "markdown",
   "metadata": {},
   "source": [
    "***"
   ]
  },
  {
   "cell_type": "markdown",
   "metadata": {},
   "source": [
    "### 5. Identifying Problems or Questions to Address"
   ]
  },
  {
   "cell_type": "markdown",
   "metadata": {},
   "source": [
    "#### Profitability Issues:<br>\n",
    "- Are certain markets or platforms less profitable? If so, why?\n",
    "- Is there a declining trend in any key categories or segments?\n",
    "#### Market Shifts:<br>\n",
    "- Are there shifts in revenue from one platform to another (e.g., from Brick & Mortar to E-Commerce)?\n",
    "- Are there emerging markets or declining markets based on the data?\n",
    "#### Cost Efficiency:<br>\n",
    "- Are manufacturing costs rising, and how does this affect profit margins?\n",
    "- Are discounts eroding profitability in certain markets or for certain customers?"
   ]
  },
  {
   "cell_type": "markdown",
   "metadata": {},
   "source": [
    "***"
   ]
  },
  {
   "cell_type": "markdown",
   "metadata": {},
   "source": [
    "### 6. Research and Contextual Understanding"
   ]
  },
  {
   "cell_type": "markdown",
   "metadata": {},
   "source": [
    "#### Industry Benchmarks:<br>\n",
    "- Research industry standards for profit margins, cost structures, and market share to compare with your findings.\n",
    "#### Economic Factors:<br>\n",
    "- Consider external economic factors that may have influenced market trends (e.g., currency fluctuations, economic downturns).\n",
    "#### Competitor Analysis:\n",
    "- Research competitors' performance in similar markets to understand potential threats or opportunities.\n"
   ]
  },
  {
   "cell_type": "markdown",
   "metadata": {},
   "source": [
    "***"
   ]
  },
  {
   "cell_type": "markdown",
   "metadata": {},
   "source": [
    "### 7. Hypothesis Formation and Testing"
   ]
  },
  {
   "cell_type": "markdown",
   "metadata": {},
   "source": [
    "#### Based on the EDA, form hypotheses about what drives revenue and profit. For example:<br>\n",
    "- \"E-Commerce platform is more profitable due to lower overhead costs.\"\n",
    "- \"The market in Japan has seen a decline due to increased competition.\"\n",
    "#### Design experiments or statistical tests to validate these hypotheses."
   ]
  },
  {
   "cell_type": "markdown",
   "metadata": {},
   "source": [
    "***"
   ]
  },
  {
   "cell_type": "markdown",
   "metadata": {},
   "source": [
    "### 8. Visualization and Reporting"
   ]
  },
  {
   "cell_type": "markdown",
   "metadata": {},
   "source": [
    "#### Dashboards:<br>\n",
    "- Create visualizations to represent the trends, comparisons, and insights derived from the data.\n",
    "- Use tools like Power BI, Tableau, or Python libraries like Matplotlib/Seaborn.\n",
    "#### Report:<br>\n",
    "- Compile a report summarizing your findings, insights, and recommendations based on the analysis.\n",
    "- Ensure that the report answers the key questions posed at the beginning of the project."
   ]
  },
  {
   "cell_type": "markdown",
   "metadata": {},
   "source": [
    "***"
   ]
  },
  {
   "cell_type": "markdown",
   "metadata": {},
   "source": [
    "### 9. Actionable Recommendations"
   ]
  },
  {
   "cell_type": "markdown",
   "metadata": {},
   "source": [
    "#### Based on the analysis, provide recommendations for business strategies to improve revenue, optimize profits, and adapt to market shifts. These could include:<br>\n",
    "- Focusing more on profitable platforms or markets.\n",
    "- Reducing costs in certain product lines.\n",
    "- Increasing marketing efforts in emerging markets or declining segments."
   ]
  }
 ],
 "metadata": {
  "kernelspec": {
   "display_name": "Python 3",
   "language": "python",
   "name": "python3"
  },
  "language_info": {
   "codemirror_mode": {
    "name": "ipython",
    "version": 3
   },
   "file_extension": ".py",
   "mimetype": "text/x-python",
   "name": "python",
   "nbconvert_exporter": "python",
   "pygments_lexer": "ipython3",
   "version": "3.11.9"
  }
 },
 "nbformat": 4,
 "nbformat_minor": 2
}
