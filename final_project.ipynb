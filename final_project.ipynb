{
 "cells": [
  {
   "cell_type": "markdown",
   "metadata": {},
   "source": [
    "## FINAL PROJECT."
   ]
  },
  {
   "cell_type": "markdown",
   "metadata": {},
   "source": [
    "### Client: AtliQ Hardware."
   ]
  },
  {
   "cell_type": "markdown",
   "metadata": {},
   "source": [
    "### AtliQ Hardware is one of the leading computer hardware producers in India, and has even expanded into other countries as well. They sell different types of hardware to big players such as Amazon, Best Buy, and Walmart.<br>\n",
    "### This year, they're asking PWC to conduct a big audit of their sales and help them automate their existing data."
   ]
  },
  {
   "cell_type": "markdown",
   "metadata": {},
   "source": [
    "***"
   ]
  },
  {
   "cell_type": "markdown",
   "metadata": {},
   "source": [
    "### FINNANCIAL ANALYSIS"
   ]
  },
  {
   "cell_type": "markdown",
   "metadata": {},
   "source": [
    "#### DECOMPOSITION AND RESEARCH TASKS:"
   ]
  },
  {
   "cell_type": "markdown",
   "metadata": {},
   "source": [
    "### 1. Definition of Objectives and Key Questions"
   ]
  },
  {
   "cell_type": "markdown",
   "metadata": {},
   "source": [
    "#### Objective: Understand how revenue, profits, and margins have changed over time. Analyze shifts in the market and identify the most profitable categories.<br>\n",
    "#### Key Questions:<br>\n",
    "- How have revenue and profits trended over the years?<br>\n",
    "- What are the profit margins, and how have they evolved?<br>\n",
    "- Which markets, platforms, or channels have driven the most revenue and profit?<br>\n",
    "- What categories of products are the most profitable?<br>\n",
    "- How have different regions/subzones contributed to revenue and profit?<br>\n",
    "- Are there any noticeable shifts in market trends or customer preferences?"
   ]
  },
  {
   "cell_type": "markdown",
   "metadata": {},
   "source": [
    "***"
   ]
  },
  {
   "cell_type": "markdown",
   "metadata": {},
   "source": [
    "### 2. Identify the Important Metrics"
   ]
  },
  {
   "cell_type": "markdown",
   "metadata": {},
   "source": [
    "#### Revenue Metrics:<br>\n",
    "- Total Revenue: Sum of gross_price * sold_quantity from fact_sales_monthly.\n",
    "- Revenue Growth Rate: Percentage increase/decrease in revenue year-over-year.\n",
    "#### Profit Metrics:\n",
    "- Gross Profit: Revenue minus the manufacturing cost (gross_price * sold_quantity - manufacturing_cost * sold_quantity).\n",
    "- Profit Margin: Gross profit as a percentage of total revenue.\n",
    "- Net Profit: Gross profit minus pre-invoice discounts (gross_profit - (pre_invoice_discount_pct * gross_profit)).\n",
    "- Net Profit Margin: Net profit as a percentage of total revenue.\n",
    "#### Market and Category Metrics:\n",
    "- Revenue by Market: Revenue broken down by market.\n",
    "- Revenue by Platform: Revenue broken down by platform.\n",
    "- Profit by Category: Profitability of different segment and category.\n",
    "#### Trend Metrics:<br>\n",
    "- Market Share: Proportion of total revenue by market.\n",
    "- Revenue/Profit by Year: Trend of revenue and profit over time (fiscal_year)."
   ]
  },
  {
   "cell_type": "code",
   "execution_count": null,
   "metadata": {},
   "outputs": [],
   "source": []
  },
  {
   "cell_type": "markdown",
   "metadata": {},
   "source": [
    "***"
   ]
  },
  {
   "cell_type": "markdown",
   "metadata": {},
   "source": [
    "### 3. Data Preparation and Cleaning"
   ]
  },
  {
   "cell_type": "markdown",
   "metadata": {},
   "source": [
    "#### Data Integrity Check:<br>\n",
    "- Ensure each market belongs to one sub_zone and region.\n",
    "- Validate that each customer has only one associated platform.\n",
    "- Check that product_code is consistent across all fact tables.\n",
    "- Verify that there are only 3 unique values in the division column of the dim_product table.\n",
    "#### Handle Missing Data:<br>\n",
    "- Identify and address missing values in key columns like gross_price, manufacturing_cost, and sold_quantity.\n",
    "- Impute or remove records with missing data as appropriate.\n",
    "#### Feature Engineering:<br>\n",
    "- Create new features like gross_profit, net_profit, profit_margin, and net_profit_margin for further analysis.\n",
    "- Aggregate data by fiscal_year, market, platform, etc., to facilitate trend analysis."
   ]
  },
  {
   "cell_type": "code",
   "execution_count": 2,
   "metadata": {},
   "outputs": [],
   "source": [
    "import sqlite3\n",
    "import pandas as pd"
   ]
  },
  {
   "cell_type": "code",
   "execution_count": 3,
   "metadata": {},
   "outputs": [],
   "source": [
    "con = sqlite3.connect('/Users/cesarchaparro/Desktop/TripleTen/Sprint_12/Final_Project/atliq_db.sqlite3')"
   ]
  },
  {
   "cell_type": "code",
   "execution_count": 4,
   "metadata": {},
   "outputs": [
    {
     "name": "stdout",
     "output_type": "stream",
     "text": [
      "[('dim_customer',), ('dim_product',), ('fact_pre_discount',), ('fact_manufacturing_cost',), ('fact_gross_price',), ('fact_sales_monthly',)]\n"
     ]
    }
   ],
   "source": [
    "cursor = con.cursor()\n",
    "cursor.execute(\"SELECT name FROM sqlite_master WHERE type='table';\")\n",
    "print(cursor.fetchall())"
   ]
  },
  {
   "cell_type": "markdown",
   "metadata": {},
   "source": [
    "#### OPEN EACH TABLE INDIVIDUALLY"
   ]
  },
  {
   "cell_type": "markdown",
   "metadata": {},
   "source": [
    "#### 1. Customer table:"
   ]
  },
  {
   "cell_type": "code",
   "execution_count": 5,
   "metadata": {},
   "outputs": [
    {
     "data": {
      "text/html": [
       "<div>\n",
       "<style scoped>\n",
       "    .dataframe tbody tr th:only-of-type {\n",
       "        vertical-align: middle;\n",
       "    }\n",
       "\n",
       "    .dataframe tbody tr th {\n",
       "        vertical-align: top;\n",
       "    }\n",
       "\n",
       "    .dataframe thead th {\n",
       "        text-align: right;\n",
       "    }\n",
       "</style>\n",
       "<table border=\"1\" class=\"dataframe\">\n",
       "  <thead>\n",
       "    <tr style=\"text-align: right;\">\n",
       "      <th></th>\n",
       "      <th>customer_code</th>\n",
       "      <th>customer</th>\n",
       "      <th>platform</th>\n",
       "      <th>channel</th>\n",
       "      <th>market</th>\n",
       "      <th>sub_zone</th>\n",
       "      <th>region</th>\n",
       "    </tr>\n",
       "  </thead>\n",
       "  <tbody>\n",
       "    <tr>\n",
       "      <th>0</th>\n",
       "      <td>70002017</td>\n",
       "      <td>Atliq Exclusive</td>\n",
       "      <td>Brick &amp; Mortar</td>\n",
       "      <td>Direct</td>\n",
       "      <td>India</td>\n",
       "      <td>India</td>\n",
       "      <td>APAC</td>\n",
       "    </tr>\n",
       "    <tr>\n",
       "      <th>1</th>\n",
       "      <td>70002018</td>\n",
       "      <td>Atliq e Store</td>\n",
       "      <td>E-Commerce</td>\n",
       "      <td>Direct</td>\n",
       "      <td>India</td>\n",
       "      <td>India</td>\n",
       "      <td>APAC</td>\n",
       "    </tr>\n",
       "    <tr>\n",
       "      <th>2</th>\n",
       "      <td>70003181</td>\n",
       "      <td>Atliq Exclusive</td>\n",
       "      <td>Brick &amp; Mortar</td>\n",
       "      <td>Direct</td>\n",
       "      <td>Indonesia</td>\n",
       "      <td>ROA</td>\n",
       "      <td>APAC</td>\n",
       "    </tr>\n",
       "    <tr>\n",
       "      <th>3</th>\n",
       "      <td>70003182</td>\n",
       "      <td>Atliq e Store</td>\n",
       "      <td>E-Commerce</td>\n",
       "      <td>Direct</td>\n",
       "      <td>Indonesia</td>\n",
       "      <td>ROA</td>\n",
       "      <td>APAC</td>\n",
       "    </tr>\n",
       "    <tr>\n",
       "      <th>4</th>\n",
       "      <td>70004069</td>\n",
       "      <td>Atliq Exclusive</td>\n",
       "      <td>Brick &amp; Mortar</td>\n",
       "      <td>Direct</td>\n",
       "      <td>Japan</td>\n",
       "      <td>ROA</td>\n",
       "      <td>APAC</td>\n",
       "    </tr>\n",
       "    <tr>\n",
       "      <th>5</th>\n",
       "      <td>70004070</td>\n",
       "      <td>Atliq e Store</td>\n",
       "      <td>E-Commerce</td>\n",
       "      <td>Direct</td>\n",
       "      <td>Japan</td>\n",
       "      <td>ROA</td>\n",
       "      <td>APAC</td>\n",
       "    </tr>\n",
       "    <tr>\n",
       "      <th>6</th>\n",
       "      <td>70005163</td>\n",
       "      <td>Atliq e Store</td>\n",
       "      <td>E-Commerce</td>\n",
       "      <td>Direct</td>\n",
       "      <td>Pakistan</td>\n",
       "      <td>ROA</td>\n",
       "      <td>APAC</td>\n",
       "    </tr>\n",
       "    <tr>\n",
       "      <th>7</th>\n",
       "      <td>70006157</td>\n",
       "      <td>Atliq Exclusive</td>\n",
       "      <td>Brick &amp; Mortar</td>\n",
       "      <td>Direct</td>\n",
       "      <td>Philiphines</td>\n",
       "      <td>ROA</td>\n",
       "      <td>APAC</td>\n",
       "    </tr>\n",
       "    <tr>\n",
       "      <th>8</th>\n",
       "      <td>70006158</td>\n",
       "      <td>Atliq e Store</td>\n",
       "      <td>E-Commerce</td>\n",
       "      <td>Direct</td>\n",
       "      <td>Philiphines</td>\n",
       "      <td>ROA</td>\n",
       "      <td>APAC</td>\n",
       "    </tr>\n",
       "    <tr>\n",
       "      <th>9</th>\n",
       "      <td>70007198</td>\n",
       "      <td>Atliq Exclusive</td>\n",
       "      <td>Brick &amp; Mortar</td>\n",
       "      <td>Direct</td>\n",
       "      <td>South Korea</td>\n",
       "      <td>ROA</td>\n",
       "      <td>APAC</td>\n",
       "    </tr>\n",
       "  </tbody>\n",
       "</table>\n",
       "</div>"
      ],
      "text/plain": [
       "   customer_code         customer        platform channel       market  \\\n",
       "0       70002017  Atliq Exclusive  Brick & Mortar  Direct        India   \n",
       "1       70002018    Atliq e Store      E-Commerce  Direct        India   \n",
       "2       70003181  Atliq Exclusive  Brick & Mortar  Direct    Indonesia   \n",
       "3       70003182    Atliq e Store      E-Commerce  Direct    Indonesia   \n",
       "4       70004069  Atliq Exclusive  Brick & Mortar  Direct        Japan   \n",
       "5       70004070    Atliq e Store      E-Commerce  Direct        Japan   \n",
       "6       70005163    Atliq e Store      E-Commerce  Direct     Pakistan   \n",
       "7       70006157  Atliq Exclusive  Brick & Mortar  Direct  Philiphines   \n",
       "8       70006158    Atliq e Store      E-Commerce  Direct  Philiphines   \n",
       "9       70007198  Atliq Exclusive  Brick & Mortar  Direct  South Korea   \n",
       "\n",
       "  sub_zone region  \n",
       "0    India   APAC  \n",
       "1    India   APAC  \n",
       "2      ROA   APAC  \n",
       "3      ROA   APAC  \n",
       "4      ROA   APAC  \n",
       "5      ROA   APAC  \n",
       "6      ROA   APAC  \n",
       "7      ROA   APAC  \n",
       "8      ROA   APAC  \n",
       "9      ROA   APAC  "
      ]
     },
     "execution_count": 5,
     "metadata": {},
     "output_type": "execute_result"
    }
   ],
   "source": [
    "# opening the customer table\n",
    "query = \"\"\"Select * from \n",
    "dim_customer\n",
    "\"\"\"\n",
    "dim_customer = pd.read_sql_query(query, con)\n",
    "dim_customer.head(10)"
   ]
  },
  {
   "cell_type": "code",
   "execution_count": 6,
   "metadata": {},
   "outputs": [
    {
     "name": "stdout",
     "output_type": "stream",
     "text": [
      "<class 'pandas.core.frame.DataFrame'>\n",
      "RangeIndex: 209 entries, 0 to 208\n",
      "Data columns (total 7 columns):\n",
      " #   Column         Non-Null Count  Dtype \n",
      "---  ------         --------------  ----- \n",
      " 0   customer_code  209 non-null    int64 \n",
      " 1   customer       209 non-null    object\n",
      " 2   platform       209 non-null    object\n",
      " 3   channel        209 non-null    object\n",
      " 4   market         209 non-null    object\n",
      " 5   sub_zone       209 non-null    object\n",
      " 6   region         209 non-null    object\n",
      "dtypes: int64(1), object(6)\n",
      "memory usage: 11.6+ KB\n"
     ]
    }
   ],
   "source": [
    "dim_customer.info()"
   ]
  },
  {
   "cell_type": "code",
   "execution_count": 7,
   "metadata": {},
   "outputs": [
    {
     "name": "stdout",
     "output_type": "stream",
     "text": [
      "Empty DataFrame\n",
      "Columns: [customer, platform_count]\n",
      "Index: []\n"
     ]
    }
   ],
   "source": [
    "query = \"\"\"SELECT customer, COUNT(DISTINCT platform) AS platform_count\n",
    "FROM dim_customer\n",
    "GROUP BY customer\n",
    "HAVING COUNT(DISTINCT platform) > 1;\n",
    "\"\"\"\n",
    "result = pd.read_sql_query(query, con)\n",
    "print(result)"
   ]
  },
  {
   "cell_type": "markdown",
   "metadata": {},
   "source": [
    "##### There are no customer who have more than one platform. Each customer has one platform."
   ]
  },
  {
   "cell_type": "code",
   "execution_count": 8,
   "metadata": {},
   "outputs": [
    {
     "name": "stdout",
     "output_type": "stream",
     "text": [
      "Empty DataFrame\n",
      "Columns: [market, distinct_subzones, distinct_regions]\n",
      "Index: []\n"
     ]
    }
   ],
   "source": [
    "query = \"\"\"SELECT market, \n",
    "       COUNT(DISTINCT sub_zone) AS distinct_subzones, \n",
    "       COUNT(DISTINCT region) AS distinct_regions\n",
    "FROM dim_customer\n",
    "GROUP BY market\n",
    "HAVING distinct_subzones > 1 OR distinct_regions > 1;\n",
    "\"\"\"\n",
    "result = pd.read_sql_query(query, con)\n",
    "print(result)\n"
   ]
  },
  {
   "cell_type": "markdown",
   "metadata": {},
   "source": [
    "##### Each market has been checked as having only 1 subzone and 1 region under it."
   ]
  },
  {
   "cell_type": "markdown",
   "metadata": {},
   "source": [
    "***"
   ]
  },
  {
   "cell_type": "markdown",
   "metadata": {},
   "source": [
    "#### 2. Product table:"
   ]
  },
  {
   "cell_type": "code",
   "execution_count": 9,
   "metadata": {},
   "outputs": [
    {
     "data": {
      "text/html": [
       "<div>\n",
       "<style scoped>\n",
       "    .dataframe tbody tr th:only-of-type {\n",
       "        vertical-align: middle;\n",
       "    }\n",
       "\n",
       "    .dataframe tbody tr th {\n",
       "        vertical-align: top;\n",
       "    }\n",
       "\n",
       "    .dataframe thead th {\n",
       "        text-align: right;\n",
       "    }\n",
       "</style>\n",
       "<table border=\"1\" class=\"dataframe\">\n",
       "  <thead>\n",
       "    <tr style=\"text-align: right;\">\n",
       "      <th></th>\n",
       "      <th>product_code</th>\n",
       "      <th>division</th>\n",
       "      <th>segment</th>\n",
       "      <th>category</th>\n",
       "      <th>product</th>\n",
       "      <th>variant</th>\n",
       "    </tr>\n",
       "  </thead>\n",
       "  <tbody>\n",
       "    <tr>\n",
       "      <th>0</th>\n",
       "      <td>A0118150101</td>\n",
       "      <td>P &amp; A</td>\n",
       "      <td>Peripherals</td>\n",
       "      <td>Internal HDD</td>\n",
       "      <td>AQ Dracula HDD – 3.5 Inch SATA 6 Gb/s 5400 RPM...</td>\n",
       "      <td>Standard</td>\n",
       "    </tr>\n",
       "    <tr>\n",
       "      <th>1</th>\n",
       "      <td>A0118150102</td>\n",
       "      <td>P &amp; A</td>\n",
       "      <td>Peripherals</td>\n",
       "      <td>Internal HDD</td>\n",
       "      <td>AQ Dracula HDD – 3.5 Inch SATA 6 Gb/s 5400 RPM...</td>\n",
       "      <td>Plus</td>\n",
       "    </tr>\n",
       "    <tr>\n",
       "      <th>2</th>\n",
       "      <td>A0118150103</td>\n",
       "      <td>P &amp; A</td>\n",
       "      <td>Peripherals</td>\n",
       "      <td>Internal HDD</td>\n",
       "      <td>AQ Dracula HDD – 3.5 Inch SATA 6 Gb/s 5400 RPM...</td>\n",
       "      <td>Premium</td>\n",
       "    </tr>\n",
       "    <tr>\n",
       "      <th>3</th>\n",
       "      <td>A0118150104</td>\n",
       "      <td>P &amp; A</td>\n",
       "      <td>Peripherals</td>\n",
       "      <td>Internal HDD</td>\n",
       "      <td>AQ Dracula HDD – 3.5 Inch SATA 6 Gb/s 5400 RPM...</td>\n",
       "      <td>Premium Plus</td>\n",
       "    </tr>\n",
       "    <tr>\n",
       "      <th>4</th>\n",
       "      <td>A0219150201</td>\n",
       "      <td>P &amp; A</td>\n",
       "      <td>Peripherals</td>\n",
       "      <td>Internal HDD</td>\n",
       "      <td>AQ WereWolf NAS Internal Hard Drive HDD – 8.89 cm</td>\n",
       "      <td>Standard</td>\n",
       "    </tr>\n",
       "  </tbody>\n",
       "</table>\n",
       "</div>"
      ],
      "text/plain": [
       "  product_code division      segment      category  \\\n",
       "0  A0118150101    P & A  Peripherals  Internal HDD   \n",
       "1  A0118150102    P & A  Peripherals  Internal HDD   \n",
       "2  A0118150103    P & A  Peripherals  Internal HDD   \n",
       "3  A0118150104    P & A  Peripherals  Internal HDD   \n",
       "4  A0219150201    P & A  Peripherals  Internal HDD   \n",
       "\n",
       "                                             product       variant  \n",
       "0  AQ Dracula HDD – 3.5 Inch SATA 6 Gb/s 5400 RPM...      Standard  \n",
       "1  AQ Dracula HDD – 3.5 Inch SATA 6 Gb/s 5400 RPM...          Plus  \n",
       "2  AQ Dracula HDD – 3.5 Inch SATA 6 Gb/s 5400 RPM...       Premium  \n",
       "3  AQ Dracula HDD – 3.5 Inch SATA 6 Gb/s 5400 RPM...  Premium Plus  \n",
       "4  AQ WereWolf NAS Internal Hard Drive HDD – 8.89 cm      Standard  "
      ]
     },
     "execution_count": 9,
     "metadata": {},
     "output_type": "execute_result"
    }
   ],
   "source": [
    "# opening the product table\n",
    "query = \"\"\"Select * from \n",
    "dim_product\n",
    "\"\"\"\n",
    "dim_product = pd.read_sql_query(query, con)\n",
    "dim_product.head()"
   ]
  },
  {
   "cell_type": "code",
   "execution_count": 10,
   "metadata": {},
   "outputs": [
    {
     "name": "stdout",
     "output_type": "stream",
     "text": [
      "<class 'pandas.core.frame.DataFrame'>\n",
      "RangeIndex: 397 entries, 0 to 396\n",
      "Data columns (total 6 columns):\n",
      " #   Column        Non-Null Count  Dtype \n",
      "---  ------        --------------  ----- \n",
      " 0   product_code  397 non-null    object\n",
      " 1   division      397 non-null    object\n",
      " 2   segment       397 non-null    object\n",
      " 3   category      397 non-null    object\n",
      " 4   product       397 non-null    object\n",
      " 5   variant       397 non-null    object\n",
      "dtypes: object(6)\n",
      "memory usage: 18.7+ KB\n"
     ]
    }
   ],
   "source": [
    "dim_product.info()"
   ]
  },
  {
   "cell_type": "code",
   "execution_count": 11,
   "metadata": {},
   "outputs": [
    {
     "name": "stdout",
     "output_type": "stream",
     "text": [
      "   unique_divisions\n",
      "0                 3\n",
      "There are exactly 3 unique values in the 'division' column.\n"
     ]
    }
   ],
   "source": [
    "query = \"\"\"SELECT COUNT(DISTINCT division) as unique_divisions \n",
    "FROM dim_product;\n",
    "\"\"\"\n",
    "result = pd.read_sql_query(query, con)\n",
    "print(result)\n",
    "\n",
    "if result['unique_divisions'][0] == 3:\n",
    "    print(\"There are exactly 3 unique values in the 'division' column.\")\n",
    "else:\n",
    "    print(f\"There are {result['unique_divisions'][0]} unique values in the 'division' column.\")"
   ]
  },
  {
   "cell_type": "markdown",
   "metadata": {},
   "source": [
    "##### After verifying the column I can conclude that there are only 3 types of divisions on the column."
   ]
  },
  {
   "cell_type": "code",
   "execution_count": 12,
   "metadata": {},
   "outputs": [
    {
     "name": "stdout",
     "output_type": "stream",
     "text": [
      "   unique_segments\n",
      "0                6\n",
      "There are exactly 6 unique values in the 'segment' column.\n"
     ]
    }
   ],
   "source": [
    "query = \"\"\"SELECT COUNT(DISTINCT segment) as unique_segments \n",
    "FROM dim_product;\n",
    "\"\"\"\n",
    "result = pd.read_sql_query(query, con)\n",
    "print(result)\n",
    "\n",
    "if result['unique_segments'][0] == 6:\n",
    "    print(\"There are exactly 6 unique values in the 'segment' column.\")\n",
    "else:\n",
    "    print(f\"There are {result['unique_segments'][0]} unique values in the 'segment' column.\")"
   ]
  },
  {
   "cell_type": "markdown",
   "metadata": {},
   "source": [
    "##### After verifying the segments column I can conclude that there are only 6 types of segments on the column."
   ]
  },
  {
   "cell_type": "code",
   "execution_count": 13,
   "metadata": {},
   "outputs": [
    {
     "name": "stdout",
     "output_type": "stream",
     "text": [
      "<class 'pandas.core.frame.DataFrame'>\n",
      "RangeIndex: 397 entries, 0 to 396\n",
      "Data columns (total 1 columns):\n",
      " #   Column        Non-Null Count  Dtype \n",
      "---  ------        --------------  ----- \n",
      " 0   product_code  397 non-null    object\n",
      "dtypes: object(1)\n",
      "memory usage: 3.2+ KB\n"
     ]
    }
   ],
   "source": [
    "# checking the dim_product table for unique product codes\n",
    "query = \"SELECT DISTINCT product_code FROM dim_product\"\n",
    "dim_product_codes = pd.read_sql_query(query, con)\n",
    "dim_product_codes.info()"
   ]
  },
  {
   "cell_type": "markdown",
   "metadata": {},
   "source": [
    "#### After checking the unique codes for each product we can see that there are no duplicates, missing or abnormal codes. Each product code has a unique value."
   ]
  },
  {
   "cell_type": "markdown",
   "metadata": {},
   "source": [
    "#### Product codes are also used in other related tables, such as fact_manufacturing_cost, fact_gross_price, and fact_sales_monthly. I will check further on the other tables to see if there are duplicates, missing or abnormal codes."
   ]
  },
  {
   "cell_type": "markdown",
   "metadata": {},
   "source": [
    "***"
   ]
  },
  {
   "cell_type": "markdown",
   "metadata": {},
   "source": [
    "#### 3. Discounts table:"
   ]
  },
  {
   "cell_type": "code",
   "execution_count": 14,
   "metadata": {},
   "outputs": [
    {
     "data": {
      "text/html": [
       "<div>\n",
       "<style scoped>\n",
       "    .dataframe tbody tr th:only-of-type {\n",
       "        vertical-align: middle;\n",
       "    }\n",
       "\n",
       "    .dataframe tbody tr th {\n",
       "        vertical-align: top;\n",
       "    }\n",
       "\n",
       "    .dataframe thead th {\n",
       "        text-align: right;\n",
       "    }\n",
       "</style>\n",
       "<table border=\"1\" class=\"dataframe\">\n",
       "  <thead>\n",
       "    <tr style=\"text-align: right;\">\n",
       "      <th></th>\n",
       "      <th>customer_code</th>\n",
       "      <th>fiscal_year</th>\n",
       "      <th>pre_invoice_discount_pct</th>\n",
       "    </tr>\n",
       "  </thead>\n",
       "  <tbody>\n",
       "    <tr>\n",
       "      <th>0</th>\n",
       "      <td>70002017</td>\n",
       "      <td>2018</td>\n",
       "      <td>0.0824</td>\n",
       "    </tr>\n",
       "    <tr>\n",
       "      <th>1</th>\n",
       "      <td>70002017</td>\n",
       "      <td>2019</td>\n",
       "      <td>0.0777</td>\n",
       "    </tr>\n",
       "    <tr>\n",
       "      <th>2</th>\n",
       "      <td>70002017</td>\n",
       "      <td>2020</td>\n",
       "      <td>0.0735</td>\n",
       "    </tr>\n",
       "    <tr>\n",
       "      <th>3</th>\n",
       "      <td>70002017</td>\n",
       "      <td>2021</td>\n",
       "      <td>0.0703</td>\n",
       "    </tr>\n",
       "    <tr>\n",
       "      <th>4</th>\n",
       "      <td>70002017</td>\n",
       "      <td>2022</td>\n",
       "      <td>0.1057</td>\n",
       "    </tr>\n",
       "    <tr>\n",
       "      <th>5</th>\n",
       "      <td>70002018</td>\n",
       "      <td>2018</td>\n",
       "      <td>0.2956</td>\n",
       "    </tr>\n",
       "    <tr>\n",
       "      <th>6</th>\n",
       "      <td>70002018</td>\n",
       "      <td>2019</td>\n",
       "      <td>0.2577</td>\n",
       "    </tr>\n",
       "    <tr>\n",
       "      <th>7</th>\n",
       "      <td>70002018</td>\n",
       "      <td>2020</td>\n",
       "      <td>0.2255</td>\n",
       "    </tr>\n",
       "    <tr>\n",
       "      <th>8</th>\n",
       "      <td>70002018</td>\n",
       "      <td>2021</td>\n",
       "      <td>0.2061</td>\n",
       "    </tr>\n",
       "    <tr>\n",
       "      <th>9</th>\n",
       "      <td>70002018</td>\n",
       "      <td>2022</td>\n",
       "      <td>0.2931</td>\n",
       "    </tr>\n",
       "  </tbody>\n",
       "</table>\n",
       "</div>"
      ],
      "text/plain": [
       "   customer_code  fiscal_year  pre_invoice_discount_pct\n",
       "0       70002017         2018                    0.0824\n",
       "1       70002017         2019                    0.0777\n",
       "2       70002017         2020                    0.0735\n",
       "3       70002017         2021                    0.0703\n",
       "4       70002017         2022                    0.1057\n",
       "5       70002018         2018                    0.2956\n",
       "6       70002018         2019                    0.2577\n",
       "7       70002018         2020                    0.2255\n",
       "8       70002018         2021                    0.2061\n",
       "9       70002018         2022                    0.2931"
      ]
     },
     "execution_count": 14,
     "metadata": {},
     "output_type": "execute_result"
    }
   ],
   "source": [
    "# opening the discounts applied to customers table\n",
    "query = \"\"\"Select * from \n",
    "fact_pre_discount\n",
    "\"\"\"\n",
    "fact_pre_discount = pd.read_sql_query(query, con)\n",
    "fact_pre_discount.head(10)"
   ]
  },
  {
   "cell_type": "code",
   "execution_count": 15,
   "metadata": {},
   "outputs": [
    {
     "name": "stdout",
     "output_type": "stream",
     "text": [
      "<class 'pandas.core.frame.DataFrame'>\n",
      "RangeIndex: 1045 entries, 0 to 1044\n",
      "Data columns (total 3 columns):\n",
      " #   Column                    Non-Null Count  Dtype  \n",
      "---  ------                    --------------  -----  \n",
      " 0   customer_code             1045 non-null   int64  \n",
      " 1   fiscal_year               1045 non-null   int64  \n",
      " 2   pre_invoice_discount_pct  1045 non-null   float64\n",
      "dtypes: float64(1), int64(2)\n",
      "memory usage: 24.6 KB\n"
     ]
    }
   ],
   "source": [
    "fact_pre_discount.info()"
   ]
  },
  {
   "cell_type": "code",
   "execution_count": 16,
   "metadata": {},
   "outputs": [
    {
     "data": {
      "text/html": [
       "<div>\n",
       "<style scoped>\n",
       "    .dataframe tbody tr th:only-of-type {\n",
       "        vertical-align: middle;\n",
       "    }\n",
       "\n",
       "    .dataframe tbody tr th {\n",
       "        vertical-align: top;\n",
       "    }\n",
       "\n",
       "    .dataframe thead th {\n",
       "        text-align: right;\n",
       "    }\n",
       "</style>\n",
       "<table border=\"1\" class=\"dataframe\">\n",
       "  <thead>\n",
       "    <tr style=\"text-align: right;\">\n",
       "      <th></th>\n",
       "      <th>COUNT(*)</th>\n",
       "    </tr>\n",
       "  </thead>\n",
       "  <tbody>\n",
       "    <tr>\n",
       "      <th>0</th>\n",
       "      <td>0</td>\n",
       "    </tr>\n",
       "  </tbody>\n",
       "</table>\n",
       "</div>"
      ],
      "text/plain": [
       "   COUNT(*)\n",
       "0         0"
      ]
     },
     "execution_count": 16,
     "metadata": {},
     "output_type": "execute_result"
    }
   ],
   "source": [
    "# count the number of rows with a pre_invoice_discount_pct of 0\n",
    "query = \"\"\"SELECT COUNT(*)\n",
    "FROM fact_pre_discount\n",
    "WHERE pre_invoice_discount_pct = 0\n",
    "\"\"\"\n",
    "zero_discount = pd.read_sql_query(query, con)\n",
    "zero_discount"
   ]
  },
  {
   "cell_type": "markdown",
   "metadata": {},
   "source": [
    "#### There are no products with discount value as 0."
   ]
  },
  {
   "cell_type": "markdown",
   "metadata": {},
   "source": [
    "#### 4. Costs table:"
   ]
  },
  {
   "cell_type": "code",
   "execution_count": 17,
   "metadata": {},
   "outputs": [
    {
     "data": {
      "text/html": [
       "<div>\n",
       "<style scoped>\n",
       "    .dataframe tbody tr th:only-of-type {\n",
       "        vertical-align: middle;\n",
       "    }\n",
       "\n",
       "    .dataframe tbody tr th {\n",
       "        vertical-align: top;\n",
       "    }\n",
       "\n",
       "    .dataframe thead th {\n",
       "        text-align: right;\n",
       "    }\n",
       "</style>\n",
       "<table border=\"1\" class=\"dataframe\">\n",
       "  <thead>\n",
       "    <tr style=\"text-align: right;\">\n",
       "      <th></th>\n",
       "      <th>product_code</th>\n",
       "      <th>cost_year</th>\n",
       "      <th>manufacturing_cost</th>\n",
       "    </tr>\n",
       "  </thead>\n",
       "  <tbody>\n",
       "    <tr>\n",
       "      <th>0</th>\n",
       "      <td>A0118150101</td>\n",
       "      <td>2018</td>\n",
       "      <td>4.6190</td>\n",
       "    </tr>\n",
       "    <tr>\n",
       "      <th>1</th>\n",
       "      <td>A0118150101</td>\n",
       "      <td>2019</td>\n",
       "      <td>4.2033</td>\n",
       "    </tr>\n",
       "    <tr>\n",
       "      <th>2</th>\n",
       "      <td>A0118150101</td>\n",
       "      <td>2020</td>\n",
       "      <td>5.0207</td>\n",
       "    </tr>\n",
       "    <tr>\n",
       "      <th>3</th>\n",
       "      <td>A0118150101</td>\n",
       "      <td>2021</td>\n",
       "      <td>5.5172</td>\n",
       "    </tr>\n",
       "    <tr>\n",
       "      <th>4</th>\n",
       "      <td>A0118150102</td>\n",
       "      <td>2018</td>\n",
       "      <td>5.6036</td>\n",
       "    </tr>\n",
       "    <tr>\n",
       "      <th>5</th>\n",
       "      <td>A0118150102</td>\n",
       "      <td>2019</td>\n",
       "      <td>5.3235</td>\n",
       "    </tr>\n",
       "    <tr>\n",
       "      <th>6</th>\n",
       "      <td>A0118150102</td>\n",
       "      <td>2020</td>\n",
       "      <td>5.7180</td>\n",
       "    </tr>\n",
       "    <tr>\n",
       "      <th>7</th>\n",
       "      <td>A0118150102</td>\n",
       "      <td>2021</td>\n",
       "      <td>6.2835</td>\n",
       "    </tr>\n",
       "    <tr>\n",
       "      <th>8</th>\n",
       "      <td>A0118150103</td>\n",
       "      <td>2018</td>\n",
       "      <td>5.9469</td>\n",
       "    </tr>\n",
       "    <tr>\n",
       "      <th>9</th>\n",
       "      <td>A0118150103</td>\n",
       "      <td>2019</td>\n",
       "      <td>5.5306</td>\n",
       "    </tr>\n",
       "  </tbody>\n",
       "</table>\n",
       "</div>"
      ],
      "text/plain": [
       "  product_code  cost_year  manufacturing_cost\n",
       "0  A0118150101       2018              4.6190\n",
       "1  A0118150101       2019              4.2033\n",
       "2  A0118150101       2020              5.0207\n",
       "3  A0118150101       2021              5.5172\n",
       "4  A0118150102       2018              5.6036\n",
       "5  A0118150102       2019              5.3235\n",
       "6  A0118150102       2020              5.7180\n",
       "7  A0118150102       2021              6.2835\n",
       "8  A0118150103       2018              5.9469\n",
       "9  A0118150103       2019              5.5306"
      ]
     },
     "execution_count": 17,
     "metadata": {},
     "output_type": "execute_result"
    }
   ],
   "source": [
    "# opening the cost table\n",
    "query = \"\"\"Select * from \n",
    "fact_manufacturing_cost\n",
    "\"\"\"\n",
    "fact_manufacturing_cost = pd.read_sql_query(query, con)\n",
    "fact_manufacturing_cost.head(10)"
   ]
  },
  {
   "cell_type": "code",
   "execution_count": 18,
   "metadata": {},
   "outputs": [
    {
     "name": "stdout",
     "output_type": "stream",
     "text": [
      "<class 'pandas.core.frame.DataFrame'>\n",
      "RangeIndex: 1182 entries, 0 to 1181\n",
      "Data columns (total 3 columns):\n",
      " #   Column              Non-Null Count  Dtype  \n",
      "---  ------              --------------  -----  \n",
      " 0   product_code        1182 non-null   object \n",
      " 1   cost_year           1182 non-null   int64  \n",
      " 2   manufacturing_cost  1182 non-null   float64\n",
      "dtypes: float64(1), int64(1), object(1)\n",
      "memory usage: 27.8+ KB\n"
     ]
    }
   ],
   "source": [
    "fact_manufacturing_cost.info()"
   ]
  },
  {
   "cell_type": "code",
   "execution_count": 19,
   "metadata": {},
   "outputs": [
    {
     "data": {
      "text/html": [
       "<div>\n",
       "<style scoped>\n",
       "    .dataframe tbody tr th:only-of-type {\n",
       "        vertical-align: middle;\n",
       "    }\n",
       "\n",
       "    .dataframe tbody tr th {\n",
       "        vertical-align: top;\n",
       "    }\n",
       "\n",
       "    .dataframe thead th {\n",
       "        text-align: right;\n",
       "    }\n",
       "</style>\n",
       "<table border=\"1\" class=\"dataframe\">\n",
       "  <thead>\n",
       "    <tr style=\"text-align: right;\">\n",
       "      <th></th>\n",
       "      <th>COUNT(*)</th>\n",
       "    </tr>\n",
       "  </thead>\n",
       "  <tbody>\n",
       "    <tr>\n",
       "      <th>0</th>\n",
       "      <td>0</td>\n",
       "    </tr>\n",
       "  </tbody>\n",
       "</table>\n",
       "</div>"
      ],
      "text/plain": [
       "   COUNT(*)\n",
       "0         0"
      ]
     },
     "execution_count": 19,
     "metadata": {},
     "output_type": "execute_result"
    }
   ],
   "source": [
    "# count the number of rows with a manufacturing_cost of 0\n",
    "query = \"\"\"SELECT COUNT(*)\n",
    "FROM fact_manufacturing_cost\n",
    "WHERE manufacturing_cost = 0\n",
    "\"\"\"\n",
    "zero_manufacturing_cost = pd.read_sql_query(query, con)\n",
    "zero_manufacturing_cost"
   ]
  },
  {
   "cell_type": "markdown",
   "metadata": {},
   "source": [
    "#### There are no products with cost value as 0."
   ]
  },
  {
   "cell_type": "markdown",
   "metadata": {},
   "source": [
    "#### There are 1182 values on the column. I will analyze further."
   ]
  },
  {
   "cell_type": "markdown",
   "metadata": {},
   "source": [
    "#### Product codes are also used in fact_manufacturing_cost table, so to check for consistency."
   ]
  },
  {
   "cell_type": "code",
   "execution_count": 20,
   "metadata": {},
   "outputs": [
    {
     "name": "stdout",
     "output_type": "stream",
     "text": [
      "<class 'pandas.core.frame.DataFrame'>\n",
      "RangeIndex: 389 entries, 0 to 388\n",
      "Data columns (total 2 columns):\n",
      " #   Column        Non-Null Count  Dtype \n",
      "---  ------        --------------  ----- \n",
      " 0   product_code  389 non-null    object\n",
      " 1   frequency     389 non-null    int64 \n",
      "dtypes: int64(1), object(1)\n",
      "memory usage: 6.2+ KB\n"
     ]
    }
   ],
   "source": [
    "# count the frequency of each product_code\n",
    "frequency_codes = pd.read_sql_query(\"\"\"SELECT product_code, COUNT(*) AS frequency\n",
    "FROM fact_manufacturing_cost\n",
    "GROUP BY product_code;\n",
    "\"\"\", con)\n",
    "frequency_codes.info()"
   ]
  },
  {
   "cell_type": "markdown",
   "metadata": {},
   "source": [
    "#### There are 389 unique value codes."
   ]
  },
  {
   "cell_type": "code",
   "execution_count": 21,
   "metadata": {},
   "outputs": [
    {
     "data": {
      "text/html": [
       "<div>\n",
       "<style scoped>\n",
       "    .dataframe tbody tr th:only-of-type {\n",
       "        vertical-align: middle;\n",
       "    }\n",
       "\n",
       "    .dataframe tbody tr th {\n",
       "        vertical-align: top;\n",
       "    }\n",
       "\n",
       "    .dataframe thead th {\n",
       "        text-align: right;\n",
       "    }\n",
       "</style>\n",
       "<table border=\"1\" class=\"dataframe\">\n",
       "  <thead>\n",
       "    <tr style=\"text-align: right;\">\n",
       "      <th></th>\n",
       "      <th>frequency</th>\n",
       "      <th>number_of_product_codes</th>\n",
       "    </tr>\n",
       "  </thead>\n",
       "  <tbody>\n",
       "    <tr>\n",
       "      <th>0</th>\n",
       "      <td>5</td>\n",
       "      <td>59</td>\n",
       "    </tr>\n",
       "    <tr>\n",
       "      <th>1</th>\n",
       "      <td>4</td>\n",
       "      <td>91</td>\n",
       "    </tr>\n",
       "    <tr>\n",
       "      <th>2</th>\n",
       "      <td>3</td>\n",
       "      <td>90</td>\n",
       "    </tr>\n",
       "    <tr>\n",
       "      <th>3</th>\n",
       "      <td>2</td>\n",
       "      <td>104</td>\n",
       "    </tr>\n",
       "    <tr>\n",
       "      <th>4</th>\n",
       "      <td>1</td>\n",
       "      <td>45</td>\n",
       "    </tr>\n",
       "  </tbody>\n",
       "</table>\n",
       "</div>"
      ],
      "text/plain": [
       "   frequency  number_of_product_codes\n",
       "0          5                       59\n",
       "1          4                       91\n",
       "2          3                       90\n",
       "3          2                      104\n",
       "4          1                       45"
      ]
     },
     "execution_count": 21,
     "metadata": {},
     "output_type": "execute_result"
    }
   ],
   "source": [
    "# to see how many product codes appear exactly once, more than once, etc.\n",
    "more_frequent_codes = pd.read_sql_query(\"\"\"SELECT frequency, COUNT(*) AS number_of_product_codes\n",
    "FROM (\n",
    "    SELECT product_code, COUNT(*) AS frequency\n",
    "    FROM fact_manufacturing_cost\n",
    "    GROUP BY product_code\n",
    ") AS frequency_table\n",
    "GROUP BY frequency\n",
    "ORDER BY frequency DESC;\n",
    "\"\"\", con)\n",
    "more_frequent_codes"
   ]
  },
  {
   "cell_type": "markdown",
   "metadata": {},
   "source": [
    "#### From this output we can see the distribution of product codes within the column, there are 59 products that appear 5 times, 91 products that appear 4 times, 90 products that appear 3 times, 104 products that appear 2 times and 45 that appear 1 time. Which gives a total of 1182 rows. Now there is an understanding of the column."
   ]
  },
  {
   "cell_type": "markdown",
   "metadata": {},
   "source": [
    "#### Now I will check if there are missing codes on this table that appear on the original table of products."
   ]
  },
  {
   "cell_type": "code",
   "execution_count": 22,
   "metadata": {},
   "outputs": [
    {
     "name": "stdout",
     "output_type": "stream",
     "text": [
      "Product codes in dim_product missing in fact_manufacturing_cost:\n",
      "    product_code\n",
      "376  A6718160102\n",
      "377  A6719160101\n",
      "382  A6918160303\n",
      "383  A6919160302\n",
      "384  A6921160301\n",
      "385  A7018160402\n",
      "386  A7019160401\n",
      "387  A7020160403\n"
     ]
    }
   ],
   "source": [
    "# check for missing product codes\n",
    "missing_in_fact_manufacturing = dim_product_codes[~dim_product_codes['product_code'].isin(fact_manufacturing_cost['product_code'])]\n",
    "print(\"Product codes in dim_product missing in fact_manufacturing_cost:\")\n",
    "print(missing_in_fact_manufacturing)"
   ]
  },
  {
   "cell_type": "markdown",
   "metadata": {},
   "source": [
    "#### There are 8 codes that are missing in the fact_manufacturing_cost from the dim_product table."
   ]
  },
  {
   "cell_type": "markdown",
   "metadata": {},
   "source": [
    "#### Here are the whole rows of the missing codes to check for anomalies on the data."
   ]
  },
  {
   "cell_type": "code",
   "execution_count": 23,
   "metadata": {},
   "outputs": [
    {
     "data": {
      "text/html": [
       "<div>\n",
       "<style scoped>\n",
       "    .dataframe tbody tr th:only-of-type {\n",
       "        vertical-align: middle;\n",
       "    }\n",
       "\n",
       "    .dataframe tbody tr th {\n",
       "        vertical-align: top;\n",
       "    }\n",
       "\n",
       "    .dataframe thead th {\n",
       "        text-align: right;\n",
       "    }\n",
       "</style>\n",
       "<table border=\"1\" class=\"dataframe\">\n",
       "  <thead>\n",
       "    <tr style=\"text-align: right;\">\n",
       "      <th></th>\n",
       "      <th>product_code</th>\n",
       "      <th>division</th>\n",
       "      <th>segment</th>\n",
       "      <th>category</th>\n",
       "      <th>product</th>\n",
       "      <th>variant</th>\n",
       "    </tr>\n",
       "  </thead>\n",
       "  <tbody>\n",
       "    <tr>\n",
       "      <th>0</th>\n",
       "      <td>A6718160102</td>\n",
       "      <td>N &amp; S</td>\n",
       "      <td>Storage</td>\n",
       "      <td>USB Flash Drives</td>\n",
       "      <td>AQ Pen Drive 2 IN 1</td>\n",
       "      <td>Plus</td>\n",
       "    </tr>\n",
       "    <tr>\n",
       "      <th>1</th>\n",
       "      <td>A6719160101</td>\n",
       "      <td>N &amp; S</td>\n",
       "      <td>Storage</td>\n",
       "      <td>USB Flash Drives</td>\n",
       "      <td>AQ Pen Drive 2 IN 1</td>\n",
       "      <td>Standard</td>\n",
       "    </tr>\n",
       "    <tr>\n",
       "      <th>2</th>\n",
       "      <td>A6918160303</td>\n",
       "      <td>N &amp; S</td>\n",
       "      <td>Storage</td>\n",
       "      <td>USB Flash Drives</td>\n",
       "      <td>AQ Ultra Dual 2.0</td>\n",
       "      <td>Premium</td>\n",
       "    </tr>\n",
       "    <tr>\n",
       "      <th>3</th>\n",
       "      <td>A6919160302</td>\n",
       "      <td>N &amp; S</td>\n",
       "      <td>Storage</td>\n",
       "      <td>USB Flash Drives</td>\n",
       "      <td>AQ Ultra Dual 2.0</td>\n",
       "      <td>Plus</td>\n",
       "    </tr>\n",
       "    <tr>\n",
       "      <th>4</th>\n",
       "      <td>A6921160301</td>\n",
       "      <td>N &amp; S</td>\n",
       "      <td>Storage</td>\n",
       "      <td>USB Flash Drives</td>\n",
       "      <td>AQ Ultra Dual 2.0</td>\n",
       "      <td>Standard</td>\n",
       "    </tr>\n",
       "    <tr>\n",
       "      <th>5</th>\n",
       "      <td>A7018160402</td>\n",
       "      <td>N &amp; S</td>\n",
       "      <td>Storage</td>\n",
       "      <td>USB Flash Drives</td>\n",
       "      <td>AQ Ultra Dual 3.0</td>\n",
       "      <td>Plus</td>\n",
       "    </tr>\n",
       "    <tr>\n",
       "      <th>6</th>\n",
       "      <td>A7019160401</td>\n",
       "      <td>N &amp; S</td>\n",
       "      <td>Storage</td>\n",
       "      <td>USB Flash Drives</td>\n",
       "      <td>AQ Ultra Dual 3.0</td>\n",
       "      <td>Standard</td>\n",
       "    </tr>\n",
       "    <tr>\n",
       "      <th>7</th>\n",
       "      <td>A7020160403</td>\n",
       "      <td>N &amp; S</td>\n",
       "      <td>Storage</td>\n",
       "      <td>USB Flash Drives</td>\n",
       "      <td>AQ Ultra Dual 3.0</td>\n",
       "      <td>Premium</td>\n",
       "    </tr>\n",
       "  </tbody>\n",
       "</table>\n",
       "</div>"
      ],
      "text/plain": [
       "  product_code division  segment          category              product  \\\n",
       "0  A6718160102    N & S  Storage  USB Flash Drives  AQ Pen Drive 2 IN 1   \n",
       "1  A6719160101    N & S  Storage  USB Flash Drives  AQ Pen Drive 2 IN 1   \n",
       "2  A6918160303    N & S  Storage  USB Flash Drives    AQ Ultra Dual 2.0   \n",
       "3  A6919160302    N & S  Storage  USB Flash Drives    AQ Ultra Dual 2.0   \n",
       "4  A6921160301    N & S  Storage  USB Flash Drives    AQ Ultra Dual 2.0   \n",
       "5  A7018160402    N & S  Storage  USB Flash Drives    AQ Ultra Dual 3.0   \n",
       "6  A7019160401    N & S  Storage  USB Flash Drives    AQ Ultra Dual 3.0   \n",
       "7  A7020160403    N & S  Storage  USB Flash Drives    AQ Ultra Dual 3.0   \n",
       "\n",
       "    variant  \n",
       "0      Plus  \n",
       "1  Standard  \n",
       "2   Premium  \n",
       "3      Plus  \n",
       "4  Standard  \n",
       "5      Plus  \n",
       "6  Standard  \n",
       "7   Premium  "
      ]
     },
     "execution_count": 23,
     "metadata": {},
     "output_type": "execute_result"
    }
   ],
   "source": [
    "missing_codes = ('A6718160102', 'A6719160101', 'A6918160303', 'A6919160302', \n",
    "                 'A6921160301', 'A7018160402', 'A7019160401', 'A7020160403')\n",
    "\n",
    "query = f\"\"\"\n",
    "SELECT * FROM dim_product\n",
    "WHERE product_code IN {missing_codes}\n",
    "\"\"\"\n",
    "\n",
    "missing_product_info = pd.read_sql_query(query, con)\n",
    "missing_product_info"
   ]
  },
  {
   "cell_type": "markdown",
   "metadata": {},
   "source": [
    "#### Apparently there are no anomalies on the data itself. I will analyze the situation further."
   ]
  },
  {
   "cell_type": "markdown",
   "metadata": {},
   "source": [
    "#### My conclusion will show on the last table below."
   ]
  },
  {
   "cell_type": "markdown",
   "metadata": {},
   "source": [
    "#### I want to ensure that there are no product codes in the fact_manufacturing_cost that do not exist in the dim_product table."
   ]
  },
  {
   "cell_type": "code",
   "execution_count": 24,
   "metadata": {},
   "outputs": [
    {
     "name": "stdout",
     "output_type": "stream",
     "text": [
      "Product codes in fact_manufacturing_cost not found in dim_product:\n",
      "Empty DataFrame\n",
      "Columns: [product_code, cost_year, manufacturing_cost]\n",
      "Index: []\n"
     ]
    }
   ],
   "source": [
    "# check for product codes in fact_manufacturing_cost that are not in dim_product\n",
    "extra_in_fact_manufacturing = fact_manufacturing_cost[~fact_manufacturing_cost['product_code'].isin(dim_product_codes['product_code'])]\n",
    "print(\"Product codes in fact_manufacturing_cost not found in dim_product:\")\n",
    "print(extra_in_fact_manufacturing)"
   ]
  },
  {
   "cell_type": "markdown",
   "metadata": {},
   "source": [
    "#### There are in fact no product codes in the cost table that don't exist in the product table."
   ]
  },
  {
   "cell_type": "markdown",
   "metadata": {},
   "source": [
    "#### 5. Pricing table:"
   ]
  },
  {
   "cell_type": "code",
   "execution_count": 25,
   "metadata": {},
   "outputs": [
    {
     "data": {
      "text/html": [
       "<div>\n",
       "<style scoped>\n",
       "    .dataframe tbody tr th:only-of-type {\n",
       "        vertical-align: middle;\n",
       "    }\n",
       "\n",
       "    .dataframe tbody tr th {\n",
       "        vertical-align: top;\n",
       "    }\n",
       "\n",
       "    .dataframe thead th {\n",
       "        text-align: right;\n",
       "    }\n",
       "</style>\n",
       "<table border=\"1\" class=\"dataframe\">\n",
       "  <thead>\n",
       "    <tr style=\"text-align: right;\">\n",
       "      <th></th>\n",
       "      <th>product_code</th>\n",
       "      <th>fiscal_year</th>\n",
       "      <th>gross_price</th>\n",
       "    </tr>\n",
       "  </thead>\n",
       "  <tbody>\n",
       "    <tr>\n",
       "      <th>0</th>\n",
       "      <td>A0118150101</td>\n",
       "      <td>2018</td>\n",
       "      <td>15.3952</td>\n",
       "    </tr>\n",
       "    <tr>\n",
       "      <th>1</th>\n",
       "      <td>A0118150101</td>\n",
       "      <td>2019</td>\n",
       "      <td>14.4392</td>\n",
       "    </tr>\n",
       "    <tr>\n",
       "      <th>2</th>\n",
       "      <td>A0118150101</td>\n",
       "      <td>2020</td>\n",
       "      <td>16.2323</td>\n",
       "    </tr>\n",
       "    <tr>\n",
       "      <th>3</th>\n",
       "      <td>A0118150101</td>\n",
       "      <td>2021</td>\n",
       "      <td>19.0573</td>\n",
       "    </tr>\n",
       "    <tr>\n",
       "      <th>4</th>\n",
       "      <td>A0118150102</td>\n",
       "      <td>2018</td>\n",
       "      <td>19.5875</td>\n",
       "    </tr>\n",
       "    <tr>\n",
       "      <th>5</th>\n",
       "      <td>A0118150102</td>\n",
       "      <td>2019</td>\n",
       "      <td>18.5595</td>\n",
       "    </tr>\n",
       "    <tr>\n",
       "      <th>6</th>\n",
       "      <td>A0118150102</td>\n",
       "      <td>2020</td>\n",
       "      <td>19.8577</td>\n",
       "    </tr>\n",
       "    <tr>\n",
       "      <th>7</th>\n",
       "      <td>A0118150102</td>\n",
       "      <td>2021</td>\n",
       "      <td>21.4565</td>\n",
       "    </tr>\n",
       "    <tr>\n",
       "      <th>8</th>\n",
       "      <td>A0118150103</td>\n",
       "      <td>2018</td>\n",
       "      <td>19.3630</td>\n",
       "    </tr>\n",
       "    <tr>\n",
       "      <th>9</th>\n",
       "      <td>A0118150103</td>\n",
       "      <td>2019</td>\n",
       "      <td>19.3442</td>\n",
       "    </tr>\n",
       "  </tbody>\n",
       "</table>\n",
       "</div>"
      ],
      "text/plain": [
       "  product_code  fiscal_year  gross_price\n",
       "0  A0118150101         2018      15.3952\n",
       "1  A0118150101         2019      14.4392\n",
       "2  A0118150101         2020      16.2323\n",
       "3  A0118150101         2021      19.0573\n",
       "4  A0118150102         2018      19.5875\n",
       "5  A0118150102         2019      18.5595\n",
       "6  A0118150102         2020      19.8577\n",
       "7  A0118150102         2021      21.4565\n",
       "8  A0118150103         2018      19.3630\n",
       "9  A0118150103         2019      19.3442"
      ]
     },
     "execution_count": 25,
     "metadata": {},
     "output_type": "execute_result"
    }
   ],
   "source": [
    "# opening the prices table\n",
    "query = \"\"\"Select * from \n",
    "fact_gross_price\n",
    "\"\"\"\n",
    "fact_gross_price = pd.read_sql_query(query, con)\n",
    "fact_gross_price.head(10)"
   ]
  },
  {
   "cell_type": "code",
   "execution_count": 26,
   "metadata": {},
   "outputs": [
    {
     "name": "stdout",
     "output_type": "stream",
     "text": [
      "<class 'pandas.core.frame.DataFrame'>\n",
      "RangeIndex: 1182 entries, 0 to 1181\n",
      "Data columns (total 3 columns):\n",
      " #   Column        Non-Null Count  Dtype  \n",
      "---  ------        --------------  -----  \n",
      " 0   product_code  1182 non-null   object \n",
      " 1   fiscal_year   1182 non-null   int64  \n",
      " 2   gross_price   1182 non-null   float64\n",
      "dtypes: float64(1), int64(1), object(1)\n",
      "memory usage: 27.8+ KB\n"
     ]
    }
   ],
   "source": [
    "fact_gross_price.info()"
   ]
  },
  {
   "cell_type": "code",
   "execution_count": 27,
   "metadata": {},
   "outputs": [
    {
     "data": {
      "text/html": [
       "<div>\n",
       "<style scoped>\n",
       "    .dataframe tbody tr th:only-of-type {\n",
       "        vertical-align: middle;\n",
       "    }\n",
       "\n",
       "    .dataframe tbody tr th {\n",
       "        vertical-align: top;\n",
       "    }\n",
       "\n",
       "    .dataframe thead th {\n",
       "        text-align: right;\n",
       "    }\n",
       "</style>\n",
       "<table border=\"1\" class=\"dataframe\">\n",
       "  <thead>\n",
       "    <tr style=\"text-align: right;\">\n",
       "      <th></th>\n",
       "      <th>COUNT(*)</th>\n",
       "    </tr>\n",
       "  </thead>\n",
       "  <tbody>\n",
       "    <tr>\n",
       "      <th>0</th>\n",
       "      <td>0</td>\n",
       "    </tr>\n",
       "  </tbody>\n",
       "</table>\n",
       "</div>"
      ],
      "text/plain": [
       "   COUNT(*)\n",
       "0         0"
      ]
     },
     "execution_count": 27,
     "metadata": {},
     "output_type": "execute_result"
    }
   ],
   "source": [
    "# count the number of rows with a gross_price of 0\n",
    "query = \"\"\"SELECT COUNT(*)\n",
    "FROM fact_gross_price\n",
    "WHERE gross_price = 0\n",
    "\"\"\"\n",
    "zero_gross_price = pd.read_sql_query(query, con)\n",
    "zero_gross_price"
   ]
  },
  {
   "cell_type": "markdown",
   "metadata": {},
   "source": [
    "#### There are no rows with value 0 as price. Therefore I conclude that the price values are correct."
   ]
  },
  {
   "cell_type": "markdown",
   "metadata": {},
   "source": [
    "#### Product codes are also used in fact_gross_price table."
   ]
  },
  {
   "cell_type": "code",
   "execution_count": 28,
   "metadata": {},
   "outputs": [
    {
     "name": "stdout",
     "output_type": "stream",
     "text": [
      "<class 'pandas.core.frame.DataFrame'>\n",
      "RangeIndex: 389 entries, 0 to 388\n",
      "Data columns (total 1 columns):\n",
      " #   Column        Non-Null Count  Dtype \n",
      "---  ------        --------------  ----- \n",
      " 0   product_code  389 non-null    object\n",
      "dtypes: object(1)\n",
      "memory usage: 3.2+ KB\n"
     ]
    }
   ],
   "source": [
    "# query to fetch all unique product codes from fact_gross_price\n",
    "query = \"SELECT DISTINCT product_code FROM fact_gross_price\"\n",
    "fact_gross_price_codes = pd.read_sql_query(query, con)\n",
    "fact_gross_price_codes.info()"
   ]
  },
  {
   "cell_type": "code",
   "execution_count": 29,
   "metadata": {},
   "outputs": [
    {
     "name": "stdout",
     "output_type": "stream",
     "text": [
      "Product codes in dim_product missing in fact_gross_price:\n",
      "    product_code\n",
      "376  A6718160102\n",
      "377  A6719160101\n",
      "382  A6918160303\n",
      "383  A6919160302\n",
      "384  A6921160301\n",
      "385  A7018160402\n",
      "386  A7019160401\n",
      "387  A7020160403\n"
     ]
    }
   ],
   "source": [
    "# check for missing product codes\n",
    "missing_in_fact_gross_price = dim_product_codes[~dim_product_codes['product_code'].isin(fact_gross_price_codes['product_code'])]\n",
    "print(\"Product codes in dim_product missing in fact_gross_price:\")\n",
    "print(missing_in_fact_gross_price)"
   ]
  },
  {
   "cell_type": "markdown",
   "metadata": {},
   "source": [
    "#### The same codes missing on the cost table are also missing on the price table."
   ]
  },
  {
   "cell_type": "markdown",
   "metadata": {},
   "source": [
    "#### I want to ensure that there are no product codes in the fact_gross_price that do not exist in the dim_product table."
   ]
  },
  {
   "cell_type": "code",
   "execution_count": 30,
   "metadata": {},
   "outputs": [
    {
     "name": "stdout",
     "output_type": "stream",
     "text": [
      "Product codes in fact_gross_price not found in dim_product:\n",
      "Empty DataFrame\n",
      "Columns: [product_code]\n",
      "Index: []\n"
     ]
    }
   ],
   "source": [
    "# check for product codes in fact_gross_price that are not in dim_product\n",
    "extra_in_fact_gross_price = fact_gross_price_codes[~fact_gross_price_codes['product_code'].isin(dim_product_codes['product_code'])]\n",
    "print(\"Product codes in fact_gross_price not found in dim_product:\")\n",
    "print(extra_in_fact_gross_price)"
   ]
  },
  {
   "cell_type": "markdown",
   "metadata": {},
   "source": [
    "#### There are in fact no product codes in the price table that don't exist in the product table."
   ]
  },
  {
   "cell_type": "markdown",
   "metadata": {},
   "source": [
    "#### 6. Sales table:"
   ]
  },
  {
   "cell_type": "code",
   "execution_count": 31,
   "metadata": {},
   "outputs": [
    {
     "data": {
      "text/html": [
       "<div>\n",
       "<style scoped>\n",
       "    .dataframe tbody tr th:only-of-type {\n",
       "        vertical-align: middle;\n",
       "    }\n",
       "\n",
       "    .dataframe tbody tr th {\n",
       "        vertical-align: top;\n",
       "    }\n",
       "\n",
       "    .dataframe thead th {\n",
       "        text-align: right;\n",
       "    }\n",
       "</style>\n",
       "<table border=\"1\" class=\"dataframe\">\n",
       "  <thead>\n",
       "    <tr style=\"text-align: right;\">\n",
       "      <th></th>\n",
       "      <th>date</th>\n",
       "      <th>product_code</th>\n",
       "      <th>customer_code</th>\n",
       "      <th>sold_quantity</th>\n",
       "      <th>fiscal_year</th>\n",
       "    </tr>\n",
       "  </thead>\n",
       "  <tbody>\n",
       "    <tr>\n",
       "      <th>0</th>\n",
       "      <td>2017-09-01</td>\n",
       "      <td>A0118150101</td>\n",
       "      <td>70002017</td>\n",
       "      <td>51</td>\n",
       "      <td>2018</td>\n",
       "    </tr>\n",
       "    <tr>\n",
       "      <th>1</th>\n",
       "      <td>2017-09-01</td>\n",
       "      <td>A0118150101</td>\n",
       "      <td>70002018</td>\n",
       "      <td>77</td>\n",
       "      <td>2018</td>\n",
       "    </tr>\n",
       "    <tr>\n",
       "      <th>2</th>\n",
       "      <td>2017-09-01</td>\n",
       "      <td>A0118150101</td>\n",
       "      <td>70003181</td>\n",
       "      <td>17</td>\n",
       "      <td>2018</td>\n",
       "    </tr>\n",
       "    <tr>\n",
       "      <th>3</th>\n",
       "      <td>2017-09-01</td>\n",
       "      <td>A0118150101</td>\n",
       "      <td>70003182</td>\n",
       "      <td>6</td>\n",
       "      <td>2018</td>\n",
       "    </tr>\n",
       "    <tr>\n",
       "      <th>4</th>\n",
       "      <td>2017-09-01</td>\n",
       "      <td>A0118150101</td>\n",
       "      <td>70006157</td>\n",
       "      <td>5</td>\n",
       "      <td>2018</td>\n",
       "    </tr>\n",
       "    <tr>\n",
       "      <th>5</th>\n",
       "      <td>2017-09-01</td>\n",
       "      <td>A0118150101</td>\n",
       "      <td>70006158</td>\n",
       "      <td>7</td>\n",
       "      <td>2018</td>\n",
       "    </tr>\n",
       "    <tr>\n",
       "      <th>6</th>\n",
       "      <td>2017-09-01</td>\n",
       "      <td>A0118150101</td>\n",
       "      <td>70007198</td>\n",
       "      <td>29</td>\n",
       "      <td>2018</td>\n",
       "    </tr>\n",
       "    <tr>\n",
       "      <th>7</th>\n",
       "      <td>2017-09-01</td>\n",
       "      <td>A0118150101</td>\n",
       "      <td>70007199</td>\n",
       "      <td>34</td>\n",
       "      <td>2018</td>\n",
       "    </tr>\n",
       "    <tr>\n",
       "      <th>8</th>\n",
       "      <td>2017-09-01</td>\n",
       "      <td>A0118150101</td>\n",
       "      <td>70008169</td>\n",
       "      <td>22</td>\n",
       "      <td>2018</td>\n",
       "    </tr>\n",
       "    <tr>\n",
       "      <th>9</th>\n",
       "      <td>2017-09-01</td>\n",
       "      <td>A0118150101</td>\n",
       "      <td>70008170</td>\n",
       "      <td>5</td>\n",
       "      <td>2018</td>\n",
       "    </tr>\n",
       "  </tbody>\n",
       "</table>\n",
       "</div>"
      ],
      "text/plain": [
       "         date product_code  customer_code  sold_quantity  fiscal_year\n",
       "0  2017-09-01  A0118150101       70002017             51         2018\n",
       "1  2017-09-01  A0118150101       70002018             77         2018\n",
       "2  2017-09-01  A0118150101       70003181             17         2018\n",
       "3  2017-09-01  A0118150101       70003182              6         2018\n",
       "4  2017-09-01  A0118150101       70006157              5         2018\n",
       "5  2017-09-01  A0118150101       70006158              7         2018\n",
       "6  2017-09-01  A0118150101       70007198             29         2018\n",
       "7  2017-09-01  A0118150101       70007199             34         2018\n",
       "8  2017-09-01  A0118150101       70008169             22         2018\n",
       "9  2017-09-01  A0118150101       70008170              5         2018"
      ]
     },
     "execution_count": 31,
     "metadata": {},
     "output_type": "execute_result"
    }
   ],
   "source": [
    "# opening the sales table\n",
    "query = \"\"\"Select * from \n",
    "fact_sales_monthly\n",
    "\"\"\"\n",
    "fact_sales_monthly = pd.read_sql_query(query, con)\n",
    "fact_sales_monthly.head(10)"
   ]
  },
  {
   "cell_type": "code",
   "execution_count": 32,
   "metadata": {},
   "outputs": [
    {
     "name": "stdout",
     "output_type": "stream",
     "text": [
      "<class 'pandas.core.frame.DataFrame'>\n",
      "RangeIndex: 67250 entries, 0 to 67249\n",
      "Data columns (total 5 columns):\n",
      " #   Column         Non-Null Count  Dtype \n",
      "---  ------         --------------  ----- \n",
      " 0   date           67250 non-null  object\n",
      " 1   product_code   67250 non-null  object\n",
      " 2   customer_code  67250 non-null  int64 \n",
      " 3   sold_quantity  67250 non-null  int64 \n",
      " 4   fiscal_year    67250 non-null  int64 \n",
      "dtypes: int64(3), object(2)\n",
      "memory usage: 2.6+ MB\n"
     ]
    }
   ],
   "source": [
    "fact_sales_monthly.info()"
   ]
  },
  {
   "cell_type": "markdown",
   "metadata": {},
   "source": [
    "#### Product codes are also used in fact_sales_monthly table."
   ]
  },
  {
   "cell_type": "code",
   "execution_count": 33,
   "metadata": {},
   "outputs": [
    {
     "name": "stdout",
     "output_type": "stream",
     "text": [
      "   product_code  frequency\n",
      "0   A0118150104       6643\n",
      "1   A0118150103       6635\n",
      "2   A0418150103       6593\n",
      "3   A0118150101       6005\n",
      "4   A0118150102       6003\n",
      "5   A0219150202       5747\n",
      "6   A0219150201       5745\n",
      "7   A0220150203       4318\n",
      "8   A0320150301       4314\n",
      "9   A0418150101       4100\n",
      "10  A0418150102       4097\n",
      "11  A0321150303       2508\n",
      "12  A0321150302       2508\n",
      "13  A0418150104       2034\n"
     ]
    }
   ],
   "source": [
    "# query to check for product codes with multiple counts\n",
    "duplicate_product_codes = pd.read_sql_query(\"\"\"\n",
    "SELECT product_code, COUNT(*) AS frequency\n",
    "FROM fact_sales_monthly\n",
    "GROUP BY product_code\n",
    "HAVING COUNT(*) > 1\n",
    "ORDER BY frequency DESC;\n",
    "\"\"\", con)\n",
    "print(duplicate_product_codes)"
   ]
  },
  {
   "cell_type": "code",
   "execution_count": 34,
   "metadata": {},
   "outputs": [
    {
     "name": "stdout",
     "output_type": "stream",
     "text": [
      "   total_frequency\n",
      "0            67250\n"
     ]
    }
   ],
   "source": [
    "# query to sum frequencies of product codes that appear more than once\n",
    "total_frequency = pd.read_sql_query(\"\"\"\n",
    "SELECT SUM(frequency) AS total_frequency\n",
    "FROM (\n",
    "    SELECT product_code, COUNT(*) AS frequency\n",
    "    FROM fact_sales_monthly\n",
    "    GROUP BY product_code\n",
    "    HAVING COUNT(*) > 1\n",
    ") AS frequency_table;\n",
    "\"\"\", con)\n",
    "# Print the total frequency\n",
    "print(total_frequency)"
   ]
  },
  {
   "cell_type": "markdown",
   "metadata": {},
   "source": [
    "#### If we sum up each frequency we have the total of rows of 67250."
   ]
  },
  {
   "cell_type": "markdown",
   "metadata": {},
   "source": [
    "#### Now I will check if there are missing codes on this table that appear on the original table of products."
   ]
  },
  {
   "cell_type": "code",
   "execution_count": 38,
   "metadata": {},
   "outputs": [
    {
     "data": {
      "text/html": [
       "<div>\n",
       "<style scoped>\n",
       "    .dataframe tbody tr th:only-of-type {\n",
       "        vertical-align: middle;\n",
       "    }\n",
       "\n",
       "    .dataframe tbody tr th {\n",
       "        vertical-align: top;\n",
       "    }\n",
       "\n",
       "    .dataframe thead th {\n",
       "        text-align: right;\n",
       "    }\n",
       "</style>\n",
       "<table border=\"1\" class=\"dataframe\">\n",
       "  <thead>\n",
       "    <tr style=\"text-align: right;\">\n",
       "      <th></th>\n",
       "      <th>product_code</th>\n",
       "      <th>division</th>\n",
       "      <th>segment</th>\n",
       "      <th>category</th>\n",
       "      <th>product</th>\n",
       "      <th>variant</th>\n",
       "    </tr>\n",
       "  </thead>\n",
       "  <tbody>\n",
       "    <tr>\n",
       "      <th>0</th>\n",
       "      <td>A6718160102</td>\n",
       "      <td>N &amp; S</td>\n",
       "      <td>Storage</td>\n",
       "      <td>USB Flash Drives</td>\n",
       "      <td>AQ Pen Drive 2 IN 1</td>\n",
       "      <td>Plus</td>\n",
       "    </tr>\n",
       "    <tr>\n",
       "      <th>1</th>\n",
       "      <td>A6719160101</td>\n",
       "      <td>N &amp; S</td>\n",
       "      <td>Storage</td>\n",
       "      <td>USB Flash Drives</td>\n",
       "      <td>AQ Pen Drive 2 IN 1</td>\n",
       "      <td>Standard</td>\n",
       "    </tr>\n",
       "    <tr>\n",
       "      <th>2</th>\n",
       "      <td>A6918160303</td>\n",
       "      <td>N &amp; S</td>\n",
       "      <td>Storage</td>\n",
       "      <td>USB Flash Drives</td>\n",
       "      <td>AQ Ultra Dual 2.0</td>\n",
       "      <td>Premium</td>\n",
       "    </tr>\n",
       "    <tr>\n",
       "      <th>3</th>\n",
       "      <td>A6919160302</td>\n",
       "      <td>N &amp; S</td>\n",
       "      <td>Storage</td>\n",
       "      <td>USB Flash Drives</td>\n",
       "      <td>AQ Ultra Dual 2.0</td>\n",
       "      <td>Plus</td>\n",
       "    </tr>\n",
       "    <tr>\n",
       "      <th>4</th>\n",
       "      <td>A6921160301</td>\n",
       "      <td>N &amp; S</td>\n",
       "      <td>Storage</td>\n",
       "      <td>USB Flash Drives</td>\n",
       "      <td>AQ Ultra Dual 2.0</td>\n",
       "      <td>Standard</td>\n",
       "    </tr>\n",
       "    <tr>\n",
       "      <th>5</th>\n",
       "      <td>A7018160402</td>\n",
       "      <td>N &amp; S</td>\n",
       "      <td>Storage</td>\n",
       "      <td>USB Flash Drives</td>\n",
       "      <td>AQ Ultra Dual 3.0</td>\n",
       "      <td>Plus</td>\n",
       "    </tr>\n",
       "    <tr>\n",
       "      <th>6</th>\n",
       "      <td>A7019160401</td>\n",
       "      <td>N &amp; S</td>\n",
       "      <td>Storage</td>\n",
       "      <td>USB Flash Drives</td>\n",
       "      <td>AQ Ultra Dual 3.0</td>\n",
       "      <td>Standard</td>\n",
       "    </tr>\n",
       "    <tr>\n",
       "      <th>7</th>\n",
       "      <td>A7020160403</td>\n",
       "      <td>N &amp; S</td>\n",
       "      <td>Storage</td>\n",
       "      <td>USB Flash Drives</td>\n",
       "      <td>AQ Ultra Dual 3.0</td>\n",
       "      <td>Premium</td>\n",
       "    </tr>\n",
       "  </tbody>\n",
       "</table>\n",
       "</div>"
      ],
      "text/plain": [
       "  product_code division  segment          category              product  \\\n",
       "0  A6718160102    N & S  Storage  USB Flash Drives  AQ Pen Drive 2 IN 1   \n",
       "1  A6719160101    N & S  Storage  USB Flash Drives  AQ Pen Drive 2 IN 1   \n",
       "2  A6918160303    N & S  Storage  USB Flash Drives    AQ Ultra Dual 2.0   \n",
       "3  A6919160302    N & S  Storage  USB Flash Drives    AQ Ultra Dual 2.0   \n",
       "4  A6921160301    N & S  Storage  USB Flash Drives    AQ Ultra Dual 2.0   \n",
       "5  A7018160402    N & S  Storage  USB Flash Drives    AQ Ultra Dual 3.0   \n",
       "6  A7019160401    N & S  Storage  USB Flash Drives    AQ Ultra Dual 3.0   \n",
       "7  A7020160403    N & S  Storage  USB Flash Drives    AQ Ultra Dual 3.0   \n",
       "\n",
       "    variant  \n",
       "0      Plus  \n",
       "1  Standard  \n",
       "2   Premium  \n",
       "3      Plus  \n",
       "4  Standard  \n",
       "5      Plus  \n",
       "6  Standard  \n",
       "7   Premium  "
      ]
     },
     "execution_count": 38,
     "metadata": {},
     "output_type": "execute_result"
    }
   ],
   "source": [
    "query = f\"\"\"\n",
    "SELECT *\n",
    "FROM dim_product\n",
    "WHERE product_code IN ({','.join('?' for _ in missing_codes)});\n",
    "\"\"\"\n",
    "missing_codes_df = pd.read_sql_query(query, con, params = missing_codes)\n",
    "missing_codes_df"
   ]
  },
  {
   "cell_type": "markdown",
   "metadata": {},
   "source": [
    "#### Conclusion about the 8 missing products on several tables:<br>\n",
    "#### - These products could have been part of the product catalog but were either discontinued or never actually sold or stocked. This might be a result of these products being introduced but then removed from the system before any transactions could occur.<br>\n",
    "#### - There may be a data entry or integration issue where these products were incorrectly entered into the dim_product table but were never correctly linked to any transactions or cost records.<br>\n",
    "#### - It’s possible that these products were planned for introduction but were never actually put into production or sold. This could be due to strategic business decisions, market demand assessments, or other operational reasons.<br>\n",
    "#### - There might be flaws in the data entry or processing systems that resulted in these products not being properly linked across tables."
   ]
  },
  {
   "cell_type": "markdown",
   "metadata": {},
   "source": [
    "#### I will not delete these produc_codes from the dataframe since it doesn't affect or influence my analysis on finnances and I don't see any anomalies on the data itself."
   ]
  },
  {
   "cell_type": "markdown",
   "metadata": {},
   "source": [
    "#### I will check the presence of more missing product codes in this table that appear on the original product table."
   ]
  },
  {
   "cell_type": "code",
   "execution_count": 39,
   "metadata": {},
   "outputs": [
    {
     "name": "stdout",
     "output_type": "stream",
     "text": [
      "<class 'pandas.core.frame.DataFrame'>\n",
      "RangeIndex: 67250 entries, 0 to 67249\n",
      "Data columns (total 5 columns):\n",
      " #   Column         Non-Null Count  Dtype \n",
      "---  ------         --------------  ----- \n",
      " 0   date           67250 non-null  object\n",
      " 1   product_code   67250 non-null  object\n",
      " 2   customer_code  67250 non-null  int64 \n",
      " 3   sold_quantity  67250 non-null  int64 \n",
      " 4   fiscal_year    67250 non-null  int64 \n",
      "dtypes: int64(3), object(2)\n",
      "memory usage: 2.6+ MB\n"
     ]
    }
   ],
   "source": [
    "# define the list of product codes to exclude\n",
    "excluded_product_codes = [\n",
    "    'A6718160102', \n",
    "    'A6719160101', \n",
    "    'A6918160303', \n",
    "    'A6919160302', \n",
    "    'A6921160301', \n",
    "    'A7018160402', \n",
    "    'A7019160401', \n",
    "    'A7020160403'\n",
    "]\n",
    "# create a DataFrame with product codes to exclude\n",
    "excluded_codes_df = pd.DataFrame({\n",
    "    'product_code': excluded_product_codes\n",
    "})\n",
    "filtered_missing_products = fact_sales_monthly[~fact_sales_monthly['product_code'].isin(excluded_codes_df['product_code'])]\n",
    "filtered_missing_products.info()"
   ]
  },
  {
   "cell_type": "markdown",
   "metadata": {},
   "source": [
    "#### I asume that products that are newly added to the inventory may not yet have any sales recorded. If these products have been recently introduced, there might be no sales data for them yet."
   ]
  },
  {
   "cell_type": "markdown",
   "metadata": {},
   "source": [
    "***"
   ]
  },
  {
   "cell_type": "markdown",
   "metadata": {},
   "source": [
    "### 4. Exploratory Data Analysis (EDA)"
   ]
  },
  {
   "cell_type": "markdown",
   "metadata": {},
   "source": [
    "#### Descriptive Statistics:<br>\n",
    "- Calculate mean, median, and standard deviation for revenue, profit, and margin metrics.\n",
    "- Identify outliers or unusual trends in the data.\n",
    "#### Trend Analysis:<br>\n",
    "- Plot revenue, profit, and margin over time to visualize trends.\n",
    "- Use time series analysis to forecast future revenue and profit.\n",
    "#### Segment Analysis:<br>\n",
    "- Break down revenue and profit by platform, market, region, and category.\n",
    "- Identify which segments contribute most to overall profitability.\n",
    "#### Correlation Analysis:<br>\n",
    "- Analyze the relationship between different metrics (e.g., how does discount percentage affect net profit?).\n",
    "- Look for correlations between market conditions and profitability."
   ]
  },
  {
   "cell_type": "markdown",
   "metadata": {},
   "source": [
    "***"
   ]
  },
  {
   "cell_type": "markdown",
   "metadata": {},
   "source": [
    "### 5. Identifying Problems or Questions to Address"
   ]
  },
  {
   "cell_type": "markdown",
   "metadata": {},
   "source": [
    "#### Profitability Issues:<br>\n",
    "- Are certain markets or platforms less profitable? If so, why?\n",
    "- Is there a declining trend in any key categories or segments?\n",
    "#### Market Shifts:<br>\n",
    "- Are there shifts in revenue from one platform to another (e.g., from Brick & Mortar to E-Commerce)?\n",
    "- Are there emerging markets or declining markets based on the data?\n",
    "#### Cost Efficiency:<br>\n",
    "- Are manufacturing costs rising, and how does this affect profit margins?\n",
    "- Are discounts eroding profitability in certain markets or for certain customers?"
   ]
  },
  {
   "cell_type": "markdown",
   "metadata": {},
   "source": [
    "***"
   ]
  },
  {
   "cell_type": "markdown",
   "metadata": {},
   "source": [
    "### 6. Research and Contextual Understanding"
   ]
  },
  {
   "cell_type": "markdown",
   "metadata": {},
   "source": [
    "#### Industry Benchmarks:<br>\n",
    "- Research industry standards for profit margins, cost structures, and market share to compare with your findings.\n",
    "#### Economic Factors:<br>\n",
    "- Consider external economic factors that may have influenced market trends (e.g., currency fluctuations, economic downturns).\n",
    "#### Competitor Analysis:\n",
    "- Research competitors' performance in similar markets to understand potential threats or opportunities.\n"
   ]
  },
  {
   "cell_type": "markdown",
   "metadata": {},
   "source": [
    "***"
   ]
  },
  {
   "cell_type": "markdown",
   "metadata": {},
   "source": [
    "### 7. Hypothesis Formation and Testing"
   ]
  },
  {
   "cell_type": "markdown",
   "metadata": {},
   "source": [
    "#### Based on the EDA, form hypotheses about what drives revenue and profit. For example:<br>\n",
    "- \"E-Commerce platform is more profitable due to lower overhead costs.\"\n",
    "- \"The market in Japan has seen a decline due to increased competition.\"\n",
    "#### Design experiments or statistical tests to validate these hypotheses."
   ]
  },
  {
   "cell_type": "markdown",
   "metadata": {},
   "source": [
    "***"
   ]
  },
  {
   "cell_type": "markdown",
   "metadata": {},
   "source": [
    "### 8. Visualization and Reporting"
   ]
  },
  {
   "cell_type": "markdown",
   "metadata": {},
   "source": [
    "#### Dashboards:<br>\n",
    "- Create visualizations to represent the trends, comparisons, and insights derived from the data.\n",
    "- Use tools like Power BI, Tableau, or Python libraries like Matplotlib/Seaborn.\n",
    "#### Report:<br>\n",
    "- Compile a report summarizing your findings, insights, and recommendations based on the analysis.\n",
    "- Ensure that the report answers the key questions posed at the beginning of the project."
   ]
  },
  {
   "cell_type": "markdown",
   "metadata": {},
   "source": [
    "***"
   ]
  },
  {
   "cell_type": "markdown",
   "metadata": {},
   "source": [
    "### 9. Actionable Recommendations"
   ]
  },
  {
   "cell_type": "markdown",
   "metadata": {},
   "source": [
    "#### Based on the analysis, provide recommendations for business strategies to improve revenue, optimize profits, and adapt to market shifts. These could include:<br>\n",
    "- Focusing more on profitable platforms or markets.\n",
    "- Reducing costs in certain product lines.\n",
    "- Increasing marketing efforts in emerging markets or declining segments."
   ]
  }
 ],
 "metadata": {
  "kernelspec": {
   "display_name": "Python 3",
   "language": "python",
   "name": "python3"
  },
  "language_info": {
   "codemirror_mode": {
    "name": "ipython",
    "version": 3
   },
   "file_extension": ".py",
   "mimetype": "text/x-python",
   "name": "python",
   "nbconvert_exporter": "python",
   "pygments_lexer": "ipython3",
   "version": "3.11.9"
  }
 },
 "nbformat": 4,
 "nbformat_minor": 2
}
